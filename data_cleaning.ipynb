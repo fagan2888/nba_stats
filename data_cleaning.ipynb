{
 "cells": [
  {
   "cell_type": "code",
   "execution_count": 3,
   "metadata": {},
   "outputs": [],
   "source": [
    "from __future__ import print_function, division\n",
    "\n",
    "import pandas as pd\n",
    "import seaborn as sns\n",
    "import numpy as np\n",
    "import matplotlib as mpl\n",
    "import matplotlib.pyplot as plt\n",
    "\n",
    "import tensorflow as tf\n",
    "\n",
    "from glob import glob\n",
    "import os, sys\n",
    "\n",
    "%matplotlib inline"
   ]
  },
  {
   "cell_type": "markdown",
   "metadata": {},
   "source": [
    "##### Some setup data..."
   ]
  },
  {
   "cell_type": "code",
   "execution_count": 97,
   "metadata": {},
   "outputs": [],
   "source": [
    "team_long_names = \"\"\"Atlanta Hawks\n",
    "New Jersey Nets\n",
    "Brooklyn Nets\n",
    "Boston Celtics\n",
    "Charlotte Hornets\n",
    "Chicago Bulls\n",
    "Cleveland Cavaliers\n",
    "Dallas Mavericks\n",
    "Denver Nuggets\n",
    "Detroit Pistons\n",
    "Golden State Warriors\n",
    "Houston Rockets\n",
    "Indiana Pacers\n",
    "Los Angeles Clippers\n",
    "Los Angeles Lakers\n",
    "Memphis Grizzlies\n",
    "Miami Heat\n",
    "Milwaukee Bucks\n",
    "Minnesota Timberwolves\n",
    "New Orleans Pelicans\n",
    "New York Knicks\n",
    "Oklahoma City Thunder\n",
    "Orlando Magic\n",
    "Philadelphia 76ers\n",
    "Phoenix Suns\n",
    "Portland Trail Blazers\n",
    "Sacramento Kings\n",
    "San Antonio Spurs\n",
    "Toronto Raptors\n",
    "Utah Jazz\n",
    "Washington Bullets\n",
    "Washington Wizards\n",
    "Seattle SuperSonics\n",
    "Baltimore Bullets\"\"\".split('\\n')\n",
    "\n",
    "team_short_names = \"\"\"ATL  NJN  BKN  BOS  CHA  CHI  CLE  DAL  DEN  DET  GSW  HOU  IND  LAC  LAL  MEM  MIA  MIL  MIN  NOP  NYK  OKC  ORL  PHI  PHX  POR  SAC  SAS  TOR  UTA  WAS WAS SEA BAL\"\"\".split()\n",
    "\n",
    "\n",
    "long_to_short = dict(zip(team_long_names, team_short_names))\n",
    "short_to_long = dict(zip(team_short_names, team_long_names))"
   ]
  },
  {
   "cell_type": "code",
   "execution_count": 245,
   "metadata": {},
   "outputs": [],
   "source": [
    "## how do we weight stats when calculating a players value?  larger number = more weight\n",
    "stat_weights = {'PTS': 2.0, \n",
    "                'AST': 1.5,\n",
    "                'BLK': 1.25,\n",
    "                'TRB': 1.0,\n",
    "                'ORB': 0.5, \n",
    "                'STL': 1.25}\n",
    "base_stat_keys = list(stat_weights.keys())\n",
    "\n",
    "for k in base_stat_keys:\n",
    "    stat_weights[k + '_PER36'] = stat_weights[k] * 1.25\n",
    "    \n",
    "stat_keys = stat_weights.keys()"
   ]
  },
  {
   "cell_type": "code",
   "execution_count": 250,
   "metadata": {},
   "outputs": [],
   "source": [
    "column_renamer = {'Pos':'Position', \n",
    "                 'Tm':'Team', \n",
    "                 'G':'GamesPlayed', \n",
    "                 'GS':'GamesStarted',\n",
    "                 'MP':'MinutesPlayed',\n",
    "                 'PF':'Fouls'}"
   ]
  },
  {
   "cell_type": "code",
   "execution_count": 246,
   "metadata": {},
   "outputs": [],
   "source": [
    "def parse_bball_ref_common_cols(df):\n",
    "    df['PlayerName'] = df['Player'].apply(lambda x:  x.split('\\\\')[0])\n",
    "    df['PlayerID'] = df['Player'].apply(lambda x:  x.split('\\\\')[1])\n",
    "    \n",
    "    df.drop(columns=[k for k in ['Rk', 'Player'] if k in df.keys()], inplace=True)\n",
    "    df.rename(columns=column_renamer, inplace=True)\n",
    "    return df"
   ]
  },
  {
   "cell_type": "markdown",
   "metadata": {
    "heading_collapsed": true
   },
   "source": [
    "#### Playground"
   ]
  },
  {
   "cell_type": "code",
   "execution_count": 76,
   "metadata": {
    "hidden": true,
    "scrolled": true
   },
   "outputs": [],
   "source": [
    "df = yearly_stats[-1]\n",
    "# df['Player'].apply(lambda x: x.split('\\\\')[0])\n",
    "# df['PlayerID'] = df.apply(lambda x:  x['Player'].split('/')[1], axis=1)"
   ]
  },
  {
   "cell_type": "code",
   "execution_count": 63,
   "metadata": {
    "hidden": true
   },
   "outputs": [],
   "source": [
    "df.drop?"
   ]
  },
  {
   "cell_type": "code",
   "execution_count": 25,
   "metadata": {
    "hidden": true
   },
   "outputs": [],
   "source": [
    "more finals_stats.csv"
   ]
  },
  {
   "cell_type": "code",
   "execution_count": 24,
   "metadata": {
    "hidden": true
   },
   "outputs": [],
   "source": [
    "pd.read_csv?"
   ]
  },
  {
   "cell_type": "markdown",
   "metadata": {},
   "source": [
    "#### Read info about teams that made it to the finals, players that are in the HOF, and MVP winners..."
   ]
  },
  {
   "cell_type": "code",
   "execution_count": 247,
   "metadata": {},
   "outputs": [],
   "source": [
    "finals_team_data = pd.read_csv('finals_stats.csv', index_col='Year')\n",
    "finals_team_data.dropna(axis='index', inplace=True)\n",
    "finals_team_data['Champion'] = finals_team_data['Champion'].apply(lambda x: long_to_short[x])\n",
    "finals_team_data['Runner-Up'] = finals_team_data['Runner-Up'].apply(lambda x: long_to_short[x])\n",
    "finals_team_data.drop(columns=['Lg'], inplace=True)\n"
   ]
  },
  {
   "cell_type": "code",
   "execution_count": 248,
   "metadata": {},
   "outputs": [],
   "source": [
    "hof = pd.read_table('hof_players.txt', delim_whitespace=True)\n",
    "hof['Name'] = [fn + ' ' + ln for (fn, ln) in zip(hof_players['FirstName'], hof_players['LastName'])]\n",
    "hof.drop(columns=['FirstName', 'LastName', 'Height(M)'], inplace=True)\n",
    "hof_names = np.array(hof['Name'].values)"
   ]
  },
  {
   "cell_type": "code",
   "execution_count": 249,
   "metadata": {},
   "outputs": [],
   "source": [
    "mvps = pd.read_csv('mvp_stats.csv')\n",
    "mvps = parse_bball_ref_common_cols(mvps)\n",
    "mvps['Year'] = mvps['Season'].apply(lambda x: int(x.split('-')[0]) + 1)\n",
    "mvps.drop(columns=['Season','Team'], inplace=True)\n",
    "mvps.set_index('Year', inplace=True)"
   ]
  },
  {
   "cell_type": "code",
   "execution_count": 251,
   "metadata": {},
   "outputs": [],
   "source": [
    "def add_per_stats(df):\n",
    "    for key in base_stat_keys:\n",
    "        df[key + '_PER36'] = 36.0 * df[key] / df['MinutesPlayed']\n",
    "    return df"
   ]
  },
  {
   "cell_type": "code",
   "execution_count": 252,
   "metadata": {},
   "outputs": [],
   "source": [
    "def read_and_clean_yearly_stats(fname, year, veteran_ids, previous_rookie_ids):\n",
    "    \"\"\"\n",
    "    parse a single year's stats into those i'm looking for\n",
    "    \n",
    "    also indicate whether a player is a rookie (0), second year (1), or veteran player (2)\n",
    "    \"\"\"\n",
    "    df = parse_bball_ref_common_cols(pd.read_csv(fname))\n",
    "    df = add_per_stats(df)\n",
    "    \n",
    "    def get_leaders(msk):\n",
    "        leader_values = {}\n",
    "        for key in stat_keys:\n",
    "             leader_values[key] = df[key].loc[msk].max()\n",
    "        return leader_values\n",
    "    \n",
    "    if year < 2019:\n",
    "        champ = finals_team_data['Champion'][year]\n",
    "        runnerup = finals_team_data['Runner-Up'][year]\n",
    "\n",
    "        champ_players = df['Team'] == champ\n",
    "        ru_players = df['Team'] == runnerup    \n",
    "  \n",
    "        champ_leaders = get_leaders(champ_players)\n",
    "        ru_leaders = get_leaders(ru_players)\n",
    "        \n",
    "        mvpid = mvps['PlayerID'][year]\n",
    "    else:\n",
    "        champ = None\n",
    "        runnerup = None\n",
    "        mvpid = None\n",
    "\n",
    "    league_leaders = get_leaders(np.ones(df.shape[0], dtype=bool))\n",
    "\n",
    "    def calculate_player_value(row):\n",
    "        if row['Team'] in [champ, runnerup]:\n",
    "            if row['Team'] == champ:\n",
    "                multiplier = 1.0\n",
    "                leader_values = champ_leaders\n",
    "            else:\n",
    "                multiplier = 0.5\n",
    "                leader_values = ru_leaders\n",
    "\n",
    "            champ_value = (row['MinutesPlayed']/3000 +  row['GamesStarted']/82 + 0.33 * row['GamesPlayed']/82) * 0.5\n",
    "            champ_value += sum(stat_weights[key] * row[key] / leader_values[key] for key in stat_keys)\n",
    "            champ_value *= multiplier\n",
    "        else:\n",
    "            champ_value = 0\n",
    "        \n",
    "        league_value = sum(stat_weights[key] * row[key] / league_leaders[key] for key in stat_keys)\n",
    "        if row['PlayerID'] == mvpid:\n",
    "            league_value += 5\n",
    "        return champ_value + league_value\n",
    "        \n",
    "    def set_veteran_status(pid):\n",
    "        if pid in previous_rookie_ids:\n",
    "            return 1\n",
    "        elif pid in veteran_ids:\n",
    "            return 2\n",
    "        else:\n",
    "            return 0\n",
    "    \n",
    "    df['YearlyPlayerValue'] = df.apply(calculate_player_value, axis=1)\n",
    "    df['VeteranStatus'] = df['PlayerID'].apply(set_veteran_status)\n",
    "    df['YoungPlayer'] = df['Age'].apply(lambda x:  x <= 23)\n",
    "    \n",
    "    # everyone who was a rookie last year will be a veteran next year\n",
    "    next_veteran_ids = np.union1d(veteran_ids, previous_rookie_ids)\n",
    "    rookie_ids = np.array(df['PlayerID'].loc[df['VeteranStatus']==0].values)\n",
    "    \n",
    "    return df, rookie_ids, next_veteran_ids"
   ]
  },
  {
   "cell_type": "code",
   "execution_count": 253,
   "metadata": {},
   "outputs": [],
   "source": [
    "yearly_files = sorted(glob('yearly_player_stats/*.csv'))"
   ]
  },
  {
   "cell_type": "code",
   "execution_count": 254,
   "metadata": {},
   "outputs": [],
   "source": [
    "### figure out who's a rookie etc at the beginning of my time....\n",
    "year_one_df = parse_bball_ref_common_cols(pd.read_csv(yearly_files[0]))\n",
    "year_two_df = parse_bball_ref_common_cols(pd.read_csv(yearly_files[1]))\n",
    "\n",
    "year_one_ids = np.unique(year_one_df['PlayerID'].values)\n",
    "year_two_ids = np.unique(year_two_df['PlayerID'].values)\n",
    "\n",
    "## if you're in both year 1 and year 2, you're a veteran by year 3\n",
    "veteran_ids = np.intersect1d(year_one_ids, year_two_ids)\n",
    "\n",
    "## if you're only in year 2, you're a second year player in year 3\n",
    "previous_rookie_ids = np.setdiff1d(year_two_ids, year_one_ids)"
   ]
  },
  {
   "cell_type": "code",
   "execution_count": 255,
   "metadata": {},
   "outputs": [
    {
     "name": "stderr",
     "output_type": "stream",
     "text": [
      "/usr/local/lib/python3.7/site-packages/ipykernel_launcher.py:49: RuntimeWarning: invalid value encountered in double_scalars\n"
     ]
    }
   ],
   "source": [
    "dataframes = {}\n",
    "for fname in yearly_files[2:]:\n",
    "    year = int(fname.split('_')[-1].split('.')[0])\n",
    "    df, previous_rookie_ids, veteran_ids = read_and_clean_yearly_stats(\n",
    "        fname, year, veteran_ids, previous_rookie_ids)\n",
    "    \n",
    "    dataframes[year] = df"
   ]
  },
  {
   "cell_type": "code",
   "execution_count": null,
   "metadata": {},
   "outputs": [],
   "source": []
  }
 ],
 "metadata": {
  "jupytext": {
   "formats": "ipynb,py:light"
  },
  "kernelspec": {
   "display_name": "Python 3",
   "language": "python",
   "name": "python3"
  },
  "language_info": {
   "codemirror_mode": {
    "name": "ipython",
    "version": 3
   },
   "file_extension": ".py",
   "mimetype": "text/x-python",
   "name": "python",
   "nbconvert_exporter": "python",
   "pygments_lexer": "ipython3",
   "version": "3.7.3"
  }
 },
 "nbformat": 4,
 "nbformat_minor": 2
}
