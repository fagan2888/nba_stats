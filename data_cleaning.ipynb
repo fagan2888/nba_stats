{
 "cells": [
  {
   "cell_type": "code",
   "execution_count": 3,
   "metadata": {},
   "outputs": [],
   "source": [
    "from __future__ import print_function, division\n",
    "\n",
    "import pandas as pd\n",
    "import seaborn as sns\n",
    "import numpy as np\n",
    "import matplotlib as mpl\n",
    "import matplotlib.pyplot as plt\n",
    "\n",
    "import tensorflow as tf\n",
    "\n",
    "from glob import glob\n",
    "import os, sys\n",
    "\n",
    "%matplotlib inline"
   ]
  },
  {
   "cell_type": "markdown",
   "metadata": {},
   "source": [
    "##### Some setup data..."
   ]
  },
  {
   "cell_type": "code",
   "execution_count": 326,
   "metadata": {
    "code_folding": [
     0,
     35
    ]
   },
   "outputs": [],
   "source": [
    "team_long_names = [k.strip() for k in \"\"\"Atlanta Hawks\n",
    "                    New Jersey Nets\n",
    "                    Brooklyn Nets\n",
    "                    Boston Celtics\n",
    "                    Charlotte Hornets\n",
    "                    Chicago Bulls\n",
    "                    Cleveland Cavaliers\n",
    "                    Dallas Mavericks\n",
    "                    Denver Nuggets\n",
    "                    Detroit Pistons\n",
    "                    Golden State Warriors\n",
    "                    Houston Rockets\n",
    "                    Indiana Pacers\n",
    "                    Los Angeles Clippers\n",
    "                    Los Angeles Lakers\n",
    "                    Memphis Grizzlies\n",
    "                    Miami Heat\n",
    "                    Milwaukee Bucks\n",
    "                    Minnesota Timberwolves\n",
    "                    New Orleans Pelicans\n",
    "                    New York Knicks\n",
    "                    Oklahoma City Thunder\n",
    "                    Orlando Magic\n",
    "                    Philadelphia 76ers\n",
    "                    Phoenix Suns\n",
    "                    Portland Trail Blazers\n",
    "                    Sacramento Kings\n",
    "                    San Antonio Spurs\n",
    "                    Toronto Raptors\n",
    "                    Utah Jazz\n",
    "                    Washington Bullets\n",
    "                    Washington Wizards\n",
    "                    Seattle SuperSonics\n",
    "                    Baltimore Bullets\"\"\".split('\\n')]\n",
    "\n",
    "team_short_names = \"\"\"ATL  \n",
    "                    NJN  \n",
    "                    BKN  \n",
    "                    BOS  \n",
    "                    CHA  \n",
    "                    CHI  \n",
    "                    CLE  \n",
    "                    DAL  \n",
    "                    DEN  \n",
    "                    DET  \n",
    "                    GSW  \n",
    "                    HOU  \n",
    "                    IND  \n",
    "                    LAC  \n",
    "                    LAL  \n",
    "                    MEM  \n",
    "                    MIA  \n",
    "                    MIL  \n",
    "                    MIN  \n",
    "                    NOP  \n",
    "                    NYK  \n",
    "                    OKC  \n",
    "                    ORL  \n",
    "                    PHI  \n",
    "                    PHX  \n",
    "                    POR  \n",
    "                    SAC  \n",
    "                    SAS  \n",
    "                    TOR  \n",
    "                    UTA  \n",
    "                    WAS \n",
    "                    WAS\n",
    "                    SEA \n",
    "                    BAL\"\"\".split()\n",
    "\n",
    "long_to_short = dict(zip(team_long_names, team_short_names))\n",
    "short_to_long = dict(zip(team_short_names, team_long_names))"
   ]
  },
  {
   "cell_type": "code",
   "execution_count": 329,
   "metadata": {},
   "outputs": [],
   "source": [
    "## how do we weight stats when calculating a players value?  larger number = more weight\n",
    "stat_weights = {'PTS': 2.0, \n",
    "                'AST': 1.5,\n",
    "                'BLK': 1.25,\n",
    "                'TRB': 1.0,\n",
    "                'ORB': 0.5, \n",
    "                'STL': 1.25,\n",
    "                'TOV': -1.0}\n",
    "base_stat_keys = list(stat_weights.keys())\n",
    "\n",
    "for k in base_stat_keys:\n",
    "    stat_weights[k + '_PER36'] = stat_weights[k] * 1.25\n",
    "    \n",
    "stat_keys = stat_weights.keys()\n",
    "\n",
    "champ_multiplier = 0.66\n",
    "ru_multiplier = 0.33\n",
    "playoff_values = dict([(str(i), 0.1*np.sqrt(i)) for i in range(1, 5)])\n",
    "\n",
    "mvp_value = 7.5\n",
    "finals_mvp_value = 4\n",
    "all_star_value = 1.5"
   ]
  },
  {
   "cell_type": "code",
   "execution_count": 349,
   "metadata": {},
   "outputs": [],
   "source": [
    "column_renamer = {'Pos':'Position', \n",
    "                 'Tm':'Team', \n",
    "                 'G':'GamesPlayed', \n",
    "                 'GS':'GamesStarted',\n",
    "                 'MP':'MinutesPlayed',\n",
    "                 'PF':'Fouls',\n",
    "                 'Starters':'Player'}\n",
    "\n",
    "def parse_bball_ref_common_cols(df):\n",
    "    df.rename(columns=column_renamer, inplace=True)\n",
    "    df['PlayerName'] = df['Player'].apply(lambda x:  x.split('\\\\')[0])\n",
    "    df['PlayerID'] = df['Player'].apply(lambda x:  x.split('\\\\')[1])\n",
    "    \n",
    "    df.drop(columns=[k for k in ['Player'] if k in df.keys()], inplace=True)\n",
    "    return df\n",
    "\n",
    "def add_per_stats(df):\n",
    "    for key in base_stat_keys:\n",
    "        df[key + '_PER36'] = 36.0 * df[key] / df['MinutesPlayed']\n",
    "    return df"
   ]
  },
  {
   "cell_type": "markdown",
   "metadata": {},
   "source": [
    "#### Read info about teams that made it to the finals, players that are in the HOF, MVP winners, and players that made All-Star teams..."
   ]
  },
  {
   "cell_type": "code",
   "execution_count": 331,
   "metadata": {},
   "outputs": [],
   "source": [
    "finals_team_data = pd.read_csv('finals_stats.csv', index_col='Year')\n",
    "finals_team_data.dropna(axis='index', inplace=True)\n",
    "finals_team_data['Champion'] = finals_team_data['Champion'].apply(lambda x: long_to_short[x])\n",
    "finals_team_data['Runner-Up'] = finals_team_data['Runner-Up'].apply(lambda x: long_to_short[x])\n",
    "finals_team_data.drop(columns=['Lg'], inplace=True)"
   ]
  },
  {
   "cell_type": "code",
   "execution_count": 332,
   "metadata": {},
   "outputs": [],
   "source": [
    "hof = pd.read_table('hof_players.txt', delim_whitespace=True)\n",
    "hof['Name'] = [fn + ' ' + ln for (fn, ln) in zip(hof_players['FirstName'], hof_players['LastName'])]\n",
    "hof.drop(columns=['FirstName', 'LastName', 'Height(M)'], inplace=True)\n",
    "hof_names = np.array(hof['Name'].values)"
   ]
  },
  {
   "cell_type": "code",
   "execution_count": 333,
   "metadata": {},
   "outputs": [],
   "source": [
    "mvps = pd.read_csv('mvp_stats.csv')\n",
    "mvps = parse_bball_ref_common_cols(mvps)\n",
    "mvps['Year'] = mvps['Season'].apply(lambda x: int(x.split('-')[0]) + 1)\n",
    "mvps.drop(columns=['Season','Team'], inplace=True)\n",
    "mvps.set_index('Year', inplace=True)"
   ]
  },
  {
   "cell_type": "code",
   "execution_count": 334,
   "metadata": {},
   "outputs": [],
   "source": [
    "all_star_pids = {}\n",
    "all_star_files = sorted(glob('all_stars/*.csv'))\n",
    "for fname in all_star_files:\n",
    "    year = int(fname.split('/')[-1].split('.')[0])\n",
    "    adf = parse_bball_ref_common_cols(pd.read_csv(fname))\n",
    "    ## really don't care about any of the stats in the all-star game\n",
    "    ## I just want to know if they made it or not\n",
    "    all_star_pids[year] = adf['PlayerID'].values"
   ]
  },
  {
   "cell_type": "markdown",
   "metadata": {},
   "source": [
    "#### Read and parse playoff stats for reference later:"
   ]
  },
  {
   "cell_type": "code",
   "execution_count": 377,
   "metadata": {},
   "outputs": [],
   "source": [
    "df = pd.read_csv('playoff_player_stats/2018/round4.csv', header=[0, 1])"
   ]
  },
  {
   "cell_type": "code",
   "execution_count": 379,
   "metadata": {},
   "outputs": [],
   "source": [
    "new = [''.join(col).strip() for col in pdf.columns.values]"
   ]
  },
  {
   "cell_type": "code",
   "execution_count": null,
   "metadata": {},
   "outputs": [],
   "source": []
  },
  {
   "cell_type": "code",
   "execution_count": 415,
   "metadata": {},
   "outputs": [],
   "source": [
    "def read_and_clean_playoff_year(year):\n",
    "    dataframes = {}\n",
    "    for playoff_round in '1234':\n",
    "        fname = 'playoff_player_stats/{}/round{}.csv'.format(year, playoff_round)\n",
    "        df = read_and_clean_playoff_round_stats(fname)\n",
    "        dataframes[playoff_round] = df\n",
    "        if df.size:\n",
    "            teams = np.count_nonzero(df['Rk']==1)\n",
    "            expected_teams = 2**(5-int(playoff_round))\n",
    "            if teams != expected_teams:\n",
    "                print(\"Wrong number of teams for round {} in {}; have {}, expect {}\".format(\n",
    "                    playoff_round, year, teams, expected_teams))\n",
    "    return dataframes\n",
    "\n",
    "def read_and_clean_playoff_round_stats(fname):\n",
    "    if not os.path.isfile(fname):\n",
    "        print(\"No file for {}\".format(fname))\n",
    "        return pd.DataFrame(columns=['PlayerID'])\n",
    "    \n",
    "#     print(\"Reading {}\".format(fname))\n",
    "    df = pd.read_csv(fname, header=[0, 1])\n",
    "    new = [''.join(col).strip() for col in df.columns.values]\n",
    "    for ii, n in enumerate(new):\n",
    "        if n.startswith('Unnamed'):\n",
    "            new[ii] = n.split('_')[-1][1:]\n",
    "        elif n.startswith('Per Game'):\n",
    "            new[ii] = n.replace(' ','')\n",
    "        elif n.startswith('Totals'):\n",
    "            new[ii] = n[len('Totals'):]\n",
    "        elif n.startswith('Shooting'):\n",
    "            new[ii] = n[len('Shooting'):]\n",
    "        else:\n",
    "            print(\"don't know how to rename {}\".format(n))\n",
    "    df.columns = new\n",
    "    \n",
    "#     print(list(df.keys()))\n",
    "    df = add_per_stats(parse_bball_ref_common_cols(df))\n",
    "    return df     "
   ]
  },
  {
   "cell_type": "code",
   "execution_count": 416,
   "metadata": {
    "scrolled": false
   },
   "outputs": [
    {
     "name": "stdout",
     "output_type": "stream",
     "text": [
      "No file for playoff_player_stats/1988/round1.csv\n",
      "No file for playoff_player_stats/1988/round2.csv\n",
      "No file for playoff_player_stats/1988/round3.csv\n",
      "No file for playoff_player_stats/1988/round4.csv\n",
      "No file for playoff_player_stats/1989/round1.csv\n",
      "No file for playoff_player_stats/1989/round2.csv\n",
      "No file for playoff_player_stats/1989/round3.csv\n",
      "No file for playoff_player_stats/1989/round4.csv\n",
      "No file for playoff_player_stats/1990/round1.csv\n",
      "No file for playoff_player_stats/1990/round2.csv\n",
      "No file for playoff_player_stats/1990/round3.csv\n",
      "No file for playoff_player_stats/1990/round4.csv\n",
      "No file for playoff_player_stats/1991/round1.csv\n",
      "No file for playoff_player_stats/1991/round2.csv\n",
      "No file for playoff_player_stats/1991/round3.csv\n",
      "No file for playoff_player_stats/1991/round4.csv\n",
      "No file for playoff_player_stats/1992/round1.csv\n",
      "No file for playoff_player_stats/1992/round2.csv\n",
      "No file for playoff_player_stats/1992/round3.csv\n",
      "No file for playoff_player_stats/1992/round4.csv\n"
     ]
    }
   ],
   "source": [
    "playoff_stats_by_year = {}\n",
    "playoff_years = range(1988, 2019)\n",
    "for year in playoff_years:\n",
    "    playoff_stats_by_year[year] = read_and_clean_playoff_year(year)"
   ]
  },
  {
   "cell_type": "code",
   "execution_count": null,
   "metadata": {},
   "outputs": [],
   "source": [
    "def calculate_playoff_value(row, year):\n",
    "    playoff_stats_by_round = playoff_stats_by_year[year]\n",
    "    pid = row['PlayerID']\n",
    "    for playoff_round in '1234':\n",
    "        # 1 = first round\n",
    "        # 2 = conference semifinals\n",
    "        # 3 = east/west finals\n",
    "        # 4 = nba finals\n",
    "        \n",
    "        ##TODO continue here"
   ]
  },
  {
   "cell_type": "markdown",
   "metadata": {},
   "source": [
    "#### Now read and parse yearly stats\n",
    "\n",
    "Also calculate player \"values\" based on both volume and PER stats in the regular season and in the playoffs, with bonuses for contributing to a team that makes the finals, being an all star, or being the MVP or finals MVP.  Also mark who's a young player and a rookie & second year player each year based on their presence in the stats the previous year -- these are going to the players that I look to predict their growth later."
   ]
  },
  {
   "cell_type": "code",
   "execution_count": 346,
   "metadata": {
    "scrolled": true
   },
   "outputs": [],
   "source": [
    "yearly_stats = parse_bball_ref_common_cols(pd.read_csv('yearly_player_stats/nba_2019.csv'))"
   ]
  },
  {
   "cell_type": "code",
   "execution_count": null,
   "metadata": {},
   "outputs": [],
   "source": []
  },
  {
   "cell_type": "code",
   "execution_count": null,
   "metadata": {},
   "outputs": [],
   "source": []
  },
  {
   "cell_type": "code",
   "execution_count": 345,
   "metadata": {},
   "outputs": [],
   "source": [
    "def read_and_clean_yearly_stats(fname, year, veteran_ids, previous_rookie_ids):\n",
    "    \"\"\"\n",
    "    parse a single year's stats into those i'm looking for\n",
    "    \n",
    "    also indicate whether a player is a rookie (0), second year (1), or veteran player (2)\n",
    "    \"\"\"\n",
    "    df = parse_bball_ref_common_cols(pd.read_csv(fname))\n",
    "    df = add_per_stats(df)\n",
    "    \n",
    "    def get_leaders(msk):\n",
    "        leader_values = {}\n",
    "        for key in stat_keys:\n",
    "             leader_values[key] = df[key].loc[msk].max()\n",
    "        return leader_values\n",
    "    \n",
    "    if year < 2019:\n",
    "        champ = finals_team_data['Champion'][year]\n",
    "        runnerup = finals_team_data['Runner-Up'][year]\n",
    "\n",
    "        champ_players = df['Team'] == champ\n",
    "        ru_players = df['Team'] == runnerup    \n",
    "  \n",
    "        champ_leaders = get_leaders(champ_players)\n",
    "        ru_leaders = get_leaders(ru_players)\n",
    "        \n",
    "        fmpv = finals_team_data['Finals MVP'][year]\n",
    "        mvpid = mvps['PlayerID'][year]\n",
    "    else:\n",
    "        champ = None\n",
    "        runnerup = None\n",
    "        mvpid = None\n",
    "\n",
    "    all_stars = all_star_pids[year]   \n",
    "    league_leaders = get_leaders(np.ones(df.shape[0], dtype=bool))\n",
    "\n",
    "    found_fmvp = False\n",
    "    def calculate_player_value(row):          \n",
    "        if row['Team'] in [champ, runnerup]:\n",
    "            ## did you contribute to a team that made it to the finals?\n",
    "            champ_value =  0.5 * (row['MinutesPlayed']/3000 +  \n",
    "                           row['GamesStarted']/82 + \n",
    "                           0.33 * row['GamesPlayed']/82)\n",
    "            \n",
    "            if row['Team'] == champ:\n",
    "                multiplier = champ_multiplier\n",
    "                leader_values = champ_leaders                \n",
    "            else:\n",
    "                multiplier = ru_multiplier\n",
    "                leader_values = ru_leaders\n",
    "\n",
    "            pname = row['PlayerName'].rsplit(num=1)\n",
    "            pname = pname[0][0]+'. '+pname[1]\n",
    "            if pname == fmvp:\n",
    "                if found_fmvp:\n",
    "                    print(\"!! -- found two Finals MVPs in {}\".format(year))\n",
    "                champ_value += finals_mvp_value\n",
    "                found_fmvp = True\n",
    "                \n",
    "            champ_value += sum(stat_weights[key] * row[key] / leader_values[key] for key in stat_keys)\n",
    "            champ_value *= multiplier\n",
    "        else:\n",
    "            champ_value = 0\n",
    "            \n",
    "        playoff_value = 0\n",
    "        if row['EndOfSeason']:\n",
    "            playoff_value = calculate_playoff_value(row, year)\n",
    "        \n",
    "        league_value = sum(stat_weights[key] * row[key] / league_leaders[key] for key in stat_keys)\n",
    "        if row['PlayerID'] == mvpid:\n",
    "            league_value += mvp_value\n",
    "        if row['PlayerID'] in all_stars and row['EndOfSeason']:\n",
    "            league_value += all_star_value\n",
    "        return champ_value + league_value + playoff_value\n",
    "        \n",
    "    def set_veteran_status(pid):\n",
    "        if pid in previous_rookie_ids:\n",
    "            return 1\n",
    "        elif pid in veteran_ids:\n",
    "            return 2\n",
    "        else:\n",
    "            return 0\n",
    "    \n",
    "    ## drop the \"total\" values of players now (not earlier, since we want \n",
    "    ## to use total stats to normalize our value added above)\n",
    "    ## will sum-up player values later, \n",
    "    ## but a player gets value from their contribution to each team\n",
    "    df = df[df['Team'] != 'TOT']\n",
    "    \n",
    "    ## then a player only gets credit for the team they're with at the\n",
    "    ## end of the season, which is the first one to appear in the list\n",
    "    df['EndOfSeason'] = np.zeros(df.shape[0])\n",
    "    df['EndOfSeason'][np.logical_not(df.duplicated('PlayerID', keep='first'))] = True\n",
    "    \n",
    "    df['YearlyPlayerValue'] = df.apply(calculate_player_value, axis=1)\n",
    "    df['VeteranStatus'] = df['PlayerID'].apply(set_veteran_status)\n",
    "    df['YoungPlayer'] = df['Age'].apply(lambda x:  x <= 23)\n",
    "    \n",
    "    # everyone who was a rookie last year will be a veteran next year\n",
    "    next_veteran_ids = np.union1d(veteran_ids, previous_rookie_ids)\n",
    "    rookie_ids = np.array(df['PlayerID'].loc[df['VeteranStatus']==0].values)\n",
    "    \n",
    "    return df, rookie_ids, next_veteran_ids"
   ]
  },
  {
   "cell_type": "code",
   "execution_count": 253,
   "metadata": {
    "collapsed": true
   },
   "outputs": [],
   "source": [
    "yearly_files = sorted(glob('yearly_player_stats/*.csv'))"
   ]
  },
  {
   "cell_type": "code",
   "execution_count": 254,
   "metadata": {},
   "outputs": [],
   "source": [
    "### figure out who's a rookie etc at the beginning of my time....\n",
    "year_one_df = parse_bball_ref_common_cols(pd.read_csv(yearly_files[0]))\n",
    "year_two_df = parse_bball_ref_common_cols(pd.read_csv(yearly_files[1]))\n",
    "\n",
    "year_one_ids = np.unique(year_one_df['PlayerID'].values)\n",
    "year_two_ids = np.unique(year_two_df['PlayerID'].values)\n",
    "\n",
    "## if you're in both year 1 and year 2, you're a veteran by year 3\n",
    "veteran_ids = np.intersect1d(year_one_ids, year_two_ids)\n",
    "\n",
    "## if you're only in year 2, you're a second year player in year 3\n",
    "previous_rookie_ids = np.setdiff1d(year_two_ids, year_one_ids)"
   ]
  },
  {
   "cell_type": "code",
   "execution_count": 255,
   "metadata": {},
   "outputs": [
    {
     "name": "stderr",
     "output_type": "stream",
     "text": [
      "/usr/local/lib/python3.7/site-packages/ipykernel_launcher.py:49: RuntimeWarning: invalid value encountered in double_scalars\n"
     ]
    }
   ],
   "source": [
    "dataframes = {}\n",
    "for fname in yearly_files[2:]:\n",
    "    year = int(fname.split('_')[-1].split('.')[0])\n",
    "    df, previous_rookie_ids, veteran_ids = read_and_clean_yearly_stats(\n",
    "        fname, year, veteran_ids, previous_rookie_ids)\n",
    "    \n",
    "    dataframes[year] = df"
   ]
  },
  {
   "cell_type": "code",
   "execution_count": null,
   "metadata": {},
   "outputs": [],
   "source": []
  }
 ],
 "metadata": {
  "jupytext": {
   "formats": "ipynb,py:light"
  },
  "kernelspec": {
   "display_name": "Python 3",
   "language": "python",
   "name": "python3"
  },
  "language_info": {
   "codemirror_mode": {
    "name": "ipython",
    "version": 3
   },
   "file_extension": ".py",
   "mimetype": "text/x-python",
   "name": "python",
   "nbconvert_exporter": "python",
   "pygments_lexer": "ipython3",
   "version": "3.7.3"
  }
 },
 "nbformat": 4,
 "nbformat_minor": 2
}
