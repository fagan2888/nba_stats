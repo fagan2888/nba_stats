{
 "cells": [
  {
   "cell_type": "code",
   "execution_count": 1,
   "metadata": {},
   "outputs": [],
   "source": [
    "from __future__ import print_function, division\n",
    "\n",
    "import pandas as pd\n",
    "import seaborn as sns\n",
    "import numpy as np\n",
    "import matplotlib as mpl\n",
    "import matplotlib.pyplot as plt\n",
    "import datetime\n",
    "\n",
    "import tensorflow as tf\n",
    "\n",
    "from glob import glob\n",
    "import os, sys\n",
    "\n",
    "%matplotlib inline"
   ]
  },
  {
   "cell_type": "markdown",
   "metadata": {},
   "source": [
    "##### Some setup data..."
   ]
  },
  {
   "cell_type": "code",
   "execution_count": 2,
   "metadata": {
    "code_folding": [
     0,
     35
    ]
   },
   "outputs": [],
   "source": [
    "team_long_names = [k.strip() for k in \"\"\"Atlanta Hawks\n",
    "                    New Jersey Nets\n",
    "                    Brooklyn Nets\n",
    "                    Boston Celtics\n",
    "                    Charlotte Hornets\n",
    "                    Chicago Bulls\n",
    "                    Cleveland Cavaliers\n",
    "                    Dallas Mavericks\n",
    "                    Denver Nuggets\n",
    "                    Detroit Pistons\n",
    "                    Golden State Warriors\n",
    "                    Houston Rockets\n",
    "                    Indiana Pacers\n",
    "                    Los Angeles Clippers\n",
    "                    Los Angeles Lakers\n",
    "                    Memphis Grizzlies\n",
    "                    Miami Heat\n",
    "                    Milwaukee Bucks\n",
    "                    Minnesota Timberwolves\n",
    "                    New Orleans Pelicans\n",
    "                    New York Knicks\n",
    "                    Oklahoma City Thunder\n",
    "                    Orlando Magic\n",
    "                    Philadelphia 76ers\n",
    "                    Phoenix Suns\n",
    "                    Portland Trail Blazers\n",
    "                    Sacramento Kings\n",
    "                    San Antonio Spurs\n",
    "                    Toronto Raptors\n",
    "                    Utah Jazz\n",
    "                    Washington Bullets\n",
    "                    Washington Wizards\n",
    "                    Seattle SuperSonics\n",
    "                    Baltimore Bullets\"\"\".split('\\n')]\n",
    "\n",
    "team_short_names = [k.strip() for k in \"\"\"ATL  \n",
    "                    NJN  \n",
    "                    BKN  \n",
    "                    BOS  \n",
    "                    CHA  \n",
    "                    CHI  \n",
    "                    CLE  \n",
    "                    DAL  \n",
    "                    DEN  \n",
    "                    DET  \n",
    "                    GSW  \n",
    "                    HOU  \n",
    "                    IND  \n",
    "                    LAC  \n",
    "                    LAL  \n",
    "                    MEM  \n",
    "                    MIA  \n",
    "                    MIL  \n",
    "                    MIN  \n",
    "                    NOP  \n",
    "                    NYK  \n",
    "                    OKC  \n",
    "                    ORL  \n",
    "                    PHI  \n",
    "                    PHX  \n",
    "                    POR  \n",
    "                    SAC  \n",
    "                    SAS  \n",
    "                    TOR  \n",
    "                    UTA  \n",
    "                    WAS \n",
    "                    WAS\n",
    "                    SEA \n",
    "                    BAL\"\"\".split()]\n",
    "\n",
    "long_to_short = dict(zip(team_long_names, team_short_names))\n",
    "short_to_long = dict(zip(team_short_names, team_long_names))"
   ]
  },
  {
   "cell_type": "code",
   "execution_count": 3,
   "metadata": {},
   "outputs": [],
   "source": [
    "## how do we weight stats when calculating a players value?  larger number = more weight\n",
    "stat_weights = {'PTS': 2.0, \n",
    "                'AST': 1.5,\n",
    "                'BLK': 1.25,\n",
    "                'TRB': 1.0,\n",
    "                'ORB': 0.5, \n",
    "                'STL': 1.25,\n",
    "                'TOV': -2.0,\n",
    "                'MissedShots':-0.5}\n",
    "base_stat_keys = list(stat_weights.keys())\n",
    "\n",
    "for k in base_stat_keys:\n",
    "    stat_weights[k + '_PER36'] = stat_weights[k] * 1.25\n",
    "    \n",
    "stat_keys = stat_weights.keys()\n",
    "\n",
    "champ_multiplier = 0.66\n",
    "ru_multiplier = 0.33\n",
    "finals_minutes_multiplier = 0.2\n",
    "playoff_multipliers = lambda ii:  0.1*np.sqrt(int(ii))\n",
    "\n",
    "mvp_value = 8\n",
    "dpoy_value = 4\n",
    "sixth_man_value = 2\n",
    "finals_mvp_value = 4\n",
    "all_star_value = 1.5\n",
    "all_nba_values = {'1st':3, '2nd':2, '3rd':1}"
   ]
  },
  {
   "cell_type": "code",
   "execution_count": 4,
   "metadata": {},
   "outputs": [],
   "source": [
    "column_renamer = {'Pos':'Position', \n",
    "                 'Tm':'Team', \n",
    "                 'G':'GamesPlayed', \n",
    "                 'GS':'GamesStarted',\n",
    "                 'MP':'MinutesPlayed',\n",
    "                 'PF':'Fouls',\n",
    "                 'Starters':'Player'}\n",
    "\n",
    "def parse_bball_ref_common_cols(df):\n",
    "    df.rename(columns=column_renamer, inplace=True)\n",
    "    df['PlayerName'] = df['Player'].apply(lambda x:  x.split('\\\\')[0].replace('*', ''))\n",
    "    df['PlayerID'] = df['Player'].apply(lambda x:  x.split('\\\\')[1])\n",
    "    \n",
    "    df.drop(columns=[k for k in ['Player'] if k in df.keys()], inplace=True)\n",
    "    return df\n",
    "\n",
    "def add_additional_stats(df):\n",
    "    df['MissedShots'] = df['FGA'] - df['FG']\n",
    "    for key in base_stat_keys:\n",
    "        df[key + '_PER36'] = 36.0 * df[key] / df['MinutesPlayed']\n",
    "    return df"
   ]
  },
  {
   "cell_type": "markdown",
   "metadata": {},
   "source": [
    "#### Read info about teams that made it to the finals, players that are in the HOF, MVP winners, players that made All-NBA and All-Star teams, DPOYs, and Sixth man awards"
   ]
  },
  {
   "cell_type": "code",
   "execution_count": 5,
   "metadata": {},
   "outputs": [],
   "source": [
    "finals_team_data = pd.read_csv('finals_stats.csv', index_col='Year')\n",
    "finals_team_data.dropna(axis='index', inplace=True)\n",
    "finals_team_data['Champion'] = finals_team_data['Champion'].apply(lambda x: long_to_short[x])\n",
    "finals_team_data['Runner-Up'] = finals_team_data['Runner-Up'].apply(lambda x: long_to_short[x])\n",
    "finals_team_data.drop(columns=['Lg'], inplace=True)"
   ]
  },
  {
   "cell_type": "code",
   "execution_count": 6,
   "metadata": {},
   "outputs": [],
   "source": [
    "hof = pd.read_table('hof_players.txt', delim_whitespace=True)\n",
    "hof['Name'] = [fn + ' ' + ln for (fn, ln) in zip(hof['FirstName'], hof['LastName'])]\n",
    "hof.drop(columns=['FirstName', 'LastName', 'Height(M)'], inplace=True)\n",
    "hof_names = np.array(hof['Name'].values)"
   ]
  },
  {
   "cell_type": "code",
   "execution_count": 7,
   "metadata": {},
   "outputs": [],
   "source": [
    "mvps = parse_bball_ref_common_cols(pd.read_csv('mvp_stats.csv'))\n",
    "mvps['Year'] = mvps['Season'].apply(lambda x: int(x.split('-')[0]) + 1)\n",
    "mvps.drop(columns=['Season','Team'], inplace=True)\n",
    "mvps.set_index('Year', inplace=True)"
   ]
  },
  {
   "cell_type": "code",
   "execution_count": 8,
   "metadata": {},
   "outputs": [],
   "source": [
    "dpoys = parse_bball_ref_common_cols(pd.read_csv('dpoy.csv'))\n",
    "dpoys['Year'] = dpoys['Season'].apply(lambda x: int(x.split('-')[0]) + 1)\n",
    "dpoys.drop(columns=['Season','Team'], inplace=True)\n",
    "dpoys.set_index('Year', inplace=True)"
   ]
  },
  {
   "cell_type": "code",
   "execution_count": 9,
   "metadata": {},
   "outputs": [],
   "source": [
    "sixth_man_winners = parse_bball_ref_common_cols(pd.read_csv('sixth_man.csv'))\n",
    "sixth_man_winners['Year'] = sixth_man_winners['Season'].apply(lambda x: int(x.split('-')[0]) + 1)\n",
    "sixth_man_winners.set_index('Year', inplace=True)\n",
    "sixth_man_winners.drop(columns=['Lg', 'Voting', 'Season'], inplace=True)"
   ]
  },
  {
   "cell_type": "code",
   "execution_count": 10,
   "metadata": {},
   "outputs": [],
   "source": [
    "all_star_pids = {1999:np.array([])}  ### no all-star game in 1999\n",
    "all_star_files = sorted(glob('all_stars/*.csv'))\n",
    "for fname in all_star_files:\n",
    "    year = int(fname.split('/')[-1].split('.')[0])\n",
    "    adf = parse_bball_ref_common_cols(pd.read_csv(fname))\n",
    "    ## really don't care about any of the stats in the all-star game\n",
    "    ## I just want to know if they made it or not\n",
    "    all_star_pids[year] = adf['PlayerID'].values"
   ]
  },
  {
   "cell_type": "code",
   "execution_count": 11,
   "metadata": {},
   "outputs": [],
   "source": [
    "all_nba_teams_by_year = {}\n",
    "all_nba_teams = pd.read_csv('all_nba_teams.csv')\n",
    "all_nba_teams['Year'] = all_nba_teams['Season'].apply(lambda x: int(x.split('-')[0]) + 1)\n",
    "all_nba_teams.drop(columns=['Season', 'Lg'], inplace=True)\n",
    "all_nba_teams.rename(columns={'Tm':'Team'}, inplace=True)\n",
    "# all_nba_teams.set_index('Year', inplace=True)\n",
    "\n",
    "all_nba_players_by_year = {}\n",
    "for year in np.unique(all_nba_teams['Year']):\n",
    "    teams_this_year = all_nba_teams.loc[all_nba_teams['Year'] == year]\n",
    "    all_nba_players_by_year[year] = {}\n",
    "    for idx, row in teams_this_year.iterrows():\n",
    "        team = row['Team']\n",
    "        these_players = []\n",
    "        for val in row[1:-1]:\n",
    "            if val.endswith(' C'):\n",
    "                val = val[:-2]\n",
    "            elif val.endswith(' F'):\n",
    "                val = val[:-2]\n",
    "            elif val.endswith(' G'):\n",
    "                val = val[:-2]\n",
    "            these_players.append(val)\n",
    "        assert len(these_players) == 5        \n",
    "        all_nba_players_by_year[year][team] = these_players"
   ]
  },
  {
   "cell_type": "markdown",
   "metadata": {},
   "source": [
    "#### Read and parse playoff stats for reference later:"
   ]
  },
  {
   "cell_type": "code",
   "execution_count": 12,
   "metadata": {},
   "outputs": [],
   "source": [
    "def read_and_clean_playoff_year(year):\n",
    "    dataframes = {}\n",
    "    for playoff_round in '1234':\n",
    "        fname = 'playoff_player_stats/{}/round{}.csv'.format(year, playoff_round)\n",
    "        df = read_and_clean_playoff_round_stats(fname)\n",
    "        dataframes[playoff_round] = df\n",
    "        if df.size:\n",
    "            teams = np.count_nonzero(df['Rk']==1)\n",
    "            expected_teams = 2**(5-int(playoff_round))\n",
    "            if teams != expected_teams:\n",
    "                print(\"Wrong number of teams for round {} in {}; have {}, expect {}\".format(\n",
    "                    playoff_round, year, teams, expected_teams))\n",
    "    return dataframes\n",
    "\n",
    "def read_and_clean_playoff_round_stats(fname):\n",
    "    if not os.path.isfile(fname):\n",
    "        print(\"No file for {}\".format(fname))\n",
    "        return pd.DataFrame(columns=['PlayerID'])\n",
    "    \n",
    "    df = pd.read_csv(fname, header=[0, 1])\n",
    "    new = [''.join(col).strip() for col in df.columns.values]\n",
    "    for ii, n in enumerate(new):\n",
    "        if n.startswith('Unnamed'):\n",
    "            new[ii] = n.split('_')[-1][1:]\n",
    "        elif n.startswith('Per Game'):\n",
    "            new[ii] = n.replace(' ','')\n",
    "        elif n.startswith('Totals'):\n",
    "            new[ii] = n[len('Totals'):]\n",
    "        elif n.startswith('Shooting'):\n",
    "            new[ii] = n[len('Shooting'):]\n",
    "        else:\n",
    "            print(\"don't know how to rename {}\".format(n))\n",
    "    df.columns = new\n",
    "    \n",
    "    df = add_additional_stats(parse_bball_ref_common_cols(df))\n",
    "    return df     "
   ]
  },
  {
   "cell_type": "code",
   "execution_count": 13,
   "metadata": {
    "scrolled": false
   },
   "outputs": [],
   "source": [
    "playoff_stats_by_year = {}\n",
    "playoff_years = range(1990, 2019)\n",
    "for year in playoff_years:\n",
    "    playoff_stats_by_year[year] = read_and_clean_playoff_year(year)"
   ]
  },
  {
   "cell_type": "markdown",
   "metadata": {},
   "source": [
    "#### Now read and parse yearly stats\n",
    "\n",
    "Also calculate player \"values\" based on both volume and PER stats in the regular season and in the playoffs, with bonuses for contributing to a team that makes the finals, being an all star, or being the MVP or finals MVP.  Also mark who's a young player and a rookie & second year player each year based on their presence in the stats the previous year -- these are going to the players that I look to predict their growth later."
   ]
  },
  {
   "cell_type": "code",
   "execution_count": 14,
   "metadata": {},
   "outputs": [],
   "source": [
    "def get_leader_stats(df, msk=None):\n",
    "    leader_values = {}\n",
    "    for key in stat_keys:\n",
    "        if msk is None:\n",
    "            leader_values[key] = df[key].max()\n",
    "        else:\n",
    "            leader_values[key] = df[key].loc[msk].max()\n",
    "    return leader_values"
   ]
  },
  {
   "cell_type": "code",
   "execution_count": 15,
   "metadata": {},
   "outputs": [],
   "source": [
    "def add_weighted_stat_values(row, leader_stats):\n",
    "    return sum(stat_weights[key] * row[key] / leader_stats[key] for key in stat_keys)"
   ]
  },
  {
   "cell_type": "code",
   "execution_count": 16,
   "metadata": {},
   "outputs": [],
   "source": [
    "def calculate_playoff_value(row, year):\n",
    "    if not row['EndOfSeason']:\n",
    "        ### no credit if you weren't with the team at the end of the season\n",
    "        return 0\n",
    "\n",
    "    playoff_stats_by_round = playoff_stats_by_year[year]\n",
    "    pid = row['PlayerID']\n",
    "    \n",
    "    total_value = 0\n",
    "    for playoff_round in '1234':\n",
    "        # 1 = first round\n",
    "        # 2 = conference semifinals\n",
    "        # 3 = east/west finals\n",
    "        # 4 = nba finals\n",
    "        \n",
    "        multiplier = playoff_multipliers(playoff_round)\n",
    "        round_stats = playoff_stats_by_year[year][playoff_round]\n",
    "        if pid in round_stats['PlayerID']:\n",
    "            round_leader_stats = get_leader_stats(round_stats)\n",
    "            total_value += add_weighted_stat_values(row, round_leader_stats)\n",
    "    return total_value"
   ]
  },
  {
   "cell_type": "code",
   "execution_count": null,
   "metadata": {},
   "outputs": [],
   "source": []
  },
  {
   "cell_type": "code",
   "execution_count": 17,
   "metadata": {
    "code_folding": [
     38,
     99
    ]
   },
   "outputs": [],
   "source": [
    "def read_and_clean_yearly_stats(fname, year, veteran_ids, previous_rookie_ids):\n",
    "    \"\"\"\n",
    "    parse a single year's stats into those i'm looking for\n",
    "    \n",
    "    also indicate whether a player is a rookie (0), second year (1), or veteran player (2)\n",
    "    \"\"\"\n",
    "    df = parse_bball_ref_common_cols(pd.read_csv(fname))\n",
    "    df = add_additional_stats(df)\n",
    "    df['Year'] = datetime.datetime(year, 6, 1)\n",
    "    \n",
    "    if year < 2019:\n",
    "        champ = finals_team_data['Champion'][year]\n",
    "        runnerup = finals_team_data['Runner-Up'][year]\n",
    "\n",
    "        champ_players = df['Team'] == champ\n",
    "        ru_players = df['Team'] == runnerup    \n",
    "  \n",
    "        champ_leaders = get_leader_stats(df, msk=champ_players)\n",
    "        ru_leaders = get_leader_stats(df, msk=ru_players)\n",
    "        \n",
    "        dpoy = dpoys['PlayerID'][year]\n",
    "        sixth_man = sixth_man_winners['PlayerID'][year]\n",
    "        mvpid = mvps['PlayerID'][year]\n",
    "        finals_mvp = finals_team_data['Finals MVP'][year]\n",
    "        all_nba_players = all_nba_players_by_year[year]\n",
    "    else:\n",
    "        champ = None\n",
    "        runnerup = None\n",
    "        \n",
    "        mvpid = None\n",
    "        finals_mvp = None\n",
    "        dpoy = None\n",
    "        sixth_man = None\n",
    "        all_nba_players = {'1st':[], '2nd':[], '3rd':[]}\n",
    "\n",
    "    all_stars = all_star_pids[year]   \n",
    "    league_leaders = get_leader_stats(df)\n",
    "\n",
    "    def calculate_regseason_value(row):          \n",
    "        if row['Team'] in [champ, runnerup]:\n",
    "            ## did you play significant minutes on a team that made it to the finals?\n",
    "            champ_value =  finals_minutes_multiplier * (\n",
    "                            row['MinutesPlayed']/3000 +  \n",
    "                            row['GamesStarted']/82 + \n",
    "                            0.33 * row['GamesPlayed']/82)\n",
    "            \n",
    "            ## did you contribute significantly in terms of pts, rbs, etc?\n",
    "            if row['Team'] == champ:\n",
    "                multiplier = champ_multiplier\n",
    "                leader_values = champ_leaders                \n",
    "            else:\n",
    "                multiplier = ru_multiplier\n",
    "                leader_values = ru_leaders\n",
    "                \n",
    "            champ_value += add_weighted_stat_values(row, leader_values)\n",
    "            champ_value *= multiplier\n",
    "        else:\n",
    "            champ_value = 0\n",
    "                    \n",
    "        league_value = add_weighted_stat_values(row, league_leaders)\n",
    "        return champ_value + league_value\n",
    "        \n",
    "    found_finals_mvp = False\n",
    "    def calculate_awards_value(row):\n",
    "        \"\"\"\n",
    "        how much do we award a player in terms of all stars, mvps, and finals mvps?\n",
    "        \"\"\"\n",
    "        \n",
    "        if not row['EndOfSeason']:\n",
    "            ## only get credit for awards once\n",
    "            ## (on the team you end the season with)\n",
    "            return 0\n",
    "        \n",
    "        awards_value = 0\n",
    "        if row['PlayerID'] in all_stars:\n",
    "            awards_value += all_star_value\n",
    "            \n",
    "        for team in ['1st', '2nd', '3rd']:\n",
    "            if row['isAllNBA_{}'.format(team)]:\n",
    "                awards_value += all_nba_values[team]\n",
    "        \n",
    "        if row['PlayerID'] == mvpid:\n",
    "            awards_value += mvp_value\n",
    "            \n",
    "        if row['PlayerID'] == dpoy:\n",
    "            awards_value += dpoy_value\n",
    "            \n",
    "        if row['PlayerID'] == sixth_man:\n",
    "            awards_value += sixth_man_value\n",
    "            \n",
    "        if row['isFMVP']:\n",
    "            awards_value += finals_mvp_value\n",
    "            \n",
    "        return awards_value\n",
    "        \n",
    "    def set_veteran_status(pid):\n",
    "        if pid in previous_rookie_ids:\n",
    "            return 1\n",
    "        elif pid in veteran_ids:\n",
    "            return 2\n",
    "        else:\n",
    "            return 0\n",
    "    \n",
    "    def set_isFMVP(row):\n",
    "        pname = row['PlayerName']\n",
    "        team = row['Team']\n",
    "        name = pname.rsplit(maxsplit=1)\n",
    "        name = name[0][0] + '. ' + name[1]\n",
    "        if name == finals_mvp and team == champ:\n",
    "            return True\n",
    "        else:\n",
    "            return False\n",
    "        \n",
    "    def set_allNBAteam(pname, team):\n",
    "        if pname in all_nba_players[team]:\n",
    "            return True\n",
    "        else:\n",
    "            return False\n",
    "    \n",
    "    \n",
    "    ## drop the \"total\" values of players now (not earlier, since we want \n",
    "    ## to use total stats to normalize our value added above)\n",
    "    ## will sum-up player values later, \n",
    "    ## but a player gets value from their contribution to each team\n",
    "    df = df[df['Team'] != 'TOT']\n",
    "    \n",
    "    ## then a player only gets credit for the team they're with at the\n",
    "    ## end of the season, which is the first one to appear in the list\n",
    "    with_at_eos = np.zeros(df.shape[0])\n",
    "    msk = np.logical_not(df.duplicated('PlayerID', keep='first'))\n",
    "    with_at_eos[msk] = True\n",
    "    df['EndOfSeason'] = with_at_eos\n",
    "    \n",
    "    ## set whether a player was the finals mvp:\n",
    "    df['isFMVP'] = df.apply(set_isFMVP, axis=1)\n",
    "    num_fmvp = np.count_nonzero(df['isFMVP'].values)\n",
    "    if num_fmvp != 1:\n",
    "        print(\"Wrong number of FMVPs ({}) in year {}\".format(num_fmvp, year))\n",
    "    \n",
    "    ## set whether a player made each of the all NBA teams:\n",
    "    for team in ['1st', '2nd', '3rd']:\n",
    "        dset_name = 'isAllNBA_{}'.format(team)\n",
    "        df[dset_name] = df['PlayerName'].apply(set_allNBAteam, args=(team,))\n",
    "        num_on_team = np.count_nonzero(df[dset_name].values)\n",
    "        if num_on_team != 5:\n",
    "            print(\"Wrong number of players ({}) on {} All NBA {} Team\".format(num_on_team, year, team))\n",
    "    \n",
    "    df['YearlyRegularSeasonValue'] = df.apply(calculate_regseason_value, axis=1)\n",
    "    if year < 2019:\n",
    "        df['YearlyAwardsValue'] = df.apply(calculate_awards_value, axis=1)\n",
    "        df['YearlyPlayoffsValue'] = df.apply(calculate_playoff_value, args=(year,), axis=1)\n",
    "    else:\n",
    "        df['YearlyAwardsValue'] = np.zeros(df.shape[0])\n",
    "        df['YearlyPlayoffsValue'] = np.zeros(df.shape[0])\n",
    "        \n",
    "    df['VeteranStatus'] = df['PlayerID'].apply(set_veteran_status)\n",
    "    df['YoungPlayer'] = df['Age'].apply(lambda x:  x <= 23)\n",
    "    \n",
    "    # everyone who was a rookie last year will be a veteran next year\n",
    "    next_veteran_ids = np.union1d(veteran_ids, previous_rookie_ids)\n",
    "    rookie_ids = np.array(df['PlayerID'].loc[df['VeteranStatus']==0].values)\n",
    "    \n",
    "    df['TotalValue'] = df['YearlyRegularSeasonValue'] + df['YearlyAwardsValue'] + df['YearlyPlayoffsValue']\n",
    "    \n",
    "    return df, rookie_ids, next_veteran_ids"
   ]
  },
  {
   "cell_type": "code",
   "execution_count": 18,
   "metadata": {},
   "outputs": [],
   "source": [
    "yearly_files = sorted(glob('yearly_player_stats/*.csv'))\n",
    "\n",
    "### figure out who's a rookie etc at the beginning of my time....\n",
    "year_one_df = parse_bball_ref_common_cols(pd.read_csv(yearly_files[0]))\n",
    "year_two_df = parse_bball_ref_common_cols(pd.read_csv(yearly_files[1]))\n",
    "\n",
    "year_one_ids = np.unique(year_one_df['PlayerID'].values)\n",
    "year_two_ids = np.unique(year_two_df['PlayerID'].values)\n",
    "\n",
    "## if you're in both year 1 and year 2, you're a veteran by year 3\n",
    "veteran_ids = np.intersect1d(year_one_ids, year_two_ids)\n",
    "\n",
    "## if you're only in year 2, you're a second year player in year 3\n",
    "previous_rookie_ids = np.setdiff1d(year_two_ids, year_one_ids)\n",
    "\n",
    "yearly_files = yearly_files[2:]"
   ]
  },
  {
   "cell_type": "code",
   "execution_count": 19,
   "metadata": {},
   "outputs": [
    {
     "name": "stdout",
     "output_type": "stream",
     "text": [
      "Wrong number of players (6) on 1994 All NBA 3rd Team\n",
      "Wrong number of players (6) on 1995 All NBA 3rd Team\n"
     ]
    },
    {
     "name": "stderr",
     "output_type": "stream",
     "text": [
      "/usr/local/lib/python3.7/site-packages/ipykernel_launcher.py:75: FutureWarning: elementwise comparison failed; returning scalar instead, but in the future will perform elementwise comparison\n"
     ]
    },
    {
     "name": "stdout",
     "output_type": "stream",
     "text": [
      "Wrong number of players (6) on 2001 All NBA 2nd Team\n",
      "Wrong number of players (6) on 2009 All NBA 3rd Team\n"
     ]
    },
    {
     "name": "stderr",
     "output_type": "stream",
     "text": [
      "/usr/local/lib/python3.7/site-packages/ipykernel_launcher.py:2: RuntimeWarning: invalid value encountered in double_scalars\n",
      "  \n"
     ]
    },
    {
     "name": "stdout",
     "output_type": "stream",
     "text": [
      "Wrong number of FMVPs (0) in year 2019\n",
      "Wrong number of players (0) on 2019 All NBA 1st Team\n",
      "Wrong number of players (0) on 2019 All NBA 2nd Team\n",
      "Wrong number of players (0) on 2019 All NBA 3rd Team\n"
     ]
    }
   ],
   "source": [
    "yearly_data = {}\n",
    "for fname in yearly_files:\n",
    "    year = int(fname.split('_')[-1].split('.')[0])\n",
    "    df, previous_rookie_ids, veteran_ids = read_and_clean_yearly_stats(\n",
    "        fname, year, veteran_ids, previous_rookie_ids)\n",
    "    \n",
    "    yearly_data[year] = df\n",
    "all_years = pd.concat(yearly_data.values())"
   ]
  },
  {
   "cell_type": "code",
   "execution_count": 20,
   "metadata": {},
   "outputs": [
    {
     "data": {
      "text/plain": [
       "[<matplotlib.lines.Line2D at 0x1371c7c18>]"
      ]
     },
     "execution_count": 20,
     "metadata": {},
     "output_type": "execute_result"
    },
    {
     "data": {
      "image/png": "[encoded data removed]",
      "text/plain": [
       "<Figure size 432x288 with 1 Axes>"
      ]
     },
     "metadata": {},
     "output_type": "display_data"
    }
   ],
   "source": [
    "loc = all_years['PlayerID'] == 'duranke01'\n",
    "plt.plot(all_years['Year'].loc[loc], all_years['TotalValue'].loc[loc])"
   ]
  },
  {
   "cell_type": "code",
   "execution_count": null,
   "metadata": {},
   "outputs": [],
   "source": []
  }
 ],
 "metadata": {
  "jupytext": {
   "formats": "ipynb,py:light"
  },
  "kernelspec": {
   "display_name": "Python 3",
   "language": "python",
   "name": "python3"
  },
  "language_info": {
   "codemirror_mode": {
    "name": "ipython",
    "version": 3
   },
   "file_extension": ".py",
   "mimetype": "text/x-python",
   "name": "python",
   "nbconvert_exporter": "python",
   "pygments_lexer": "ipython3",
   "version": "3.7.3"
  }
 },
 "nbformat": 4,
 "nbformat_minor": 2
}
