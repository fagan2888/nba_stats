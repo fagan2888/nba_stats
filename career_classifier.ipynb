{
 "cells": [
  {
   "cell_type": "markdown",
   "metadata": {},
   "source": [
    "### imports and a couple useful functions:"
   ]
  },
  {
   "cell_type": "code",
   "execution_count": null,
   "metadata": {},
   "outputs": [],
   "source": [
    "from __future__ import print_function, division\n",
    "\n",
    "import pandas as pd\n",
    "import seaborn as sns\n",
    "import numpy as np\n",
    "from scipy import interp\n",
    "\n",
    "import matplotlib as mpl\n",
    "import matplotlib.pyplot as plt\n",
    "\n",
    "mpl.rcParams['figure.figsize'] = (8, 8)\n",
    "\n",
    "from tensorflow import keras\n",
    "from tensorflow.keras import layers, regularizers\n",
    "\n",
    "from sklearn.metrics import roc_curve, auc\n",
    "from sklearn.preprocessing import StandardScaler\n",
    "scaler = StandardScaler()\n",
    "\n",
    "from tqdm import tqdm\n",
    "from glob import glob\n",
    "import datetime\n",
    "import os, sys\n",
    "from itertools import cycle\n",
    "\n",
    "pd.options.display.max_rows = 250\n",
    "pd.options.display.max_columns = 250\n",
    "\n",
    "from collections import OrderedDict\n",
    "\n",
    "## some useful team data in here (converters from short to long):\n",
    "from basketball_reference_web_scraper import data\n",
    "\n",
    "years = np.arange(1950, 2019)\n",
    "\n",
    "## custom printing for my Keras training:\n",
    "class PrintCallback(keras.callbacks.Callback):\n",
    "    def on_epoch_end(self, epoch, logs):\n",
    "        if epoch % 25 == 0:\n",
    "#             print(logs.keys())\n",
    "            print(\"epoch {}:  loss = {:.2f}, accuracy = {:.2f}\".format(\n",
    "                epoch, logs['loss'], logs['acc']))\n",
    "    def on_train_begin(self, logs={}):\n",
    "        print(\"Beginning training...\")\n",
    "    \n",
    "    def on_train_end(self, logs):\n",
    "        print(\"Training completed\")\n",
    "\n",
    "early_stopper = keras.callbacks.EarlyStopping(monitor='loss', patience=50, verbose=1)\n",
    "nan_stopper = keras.callbacks.TerminateOnNaN()\n",
    "\n",
    "def find_player_id(player_name, df):\n",
    "    possible_pids = np.unique(df.index[df['player_name'] == player_name])\n",
    "    if possible_pids.size == 1:\n",
    "        return possible_pids[0]\n",
    "    elif possible_pids.size > 1:\n",
    "        print(\"Many options; returning most average points:\")\n",
    "        vals = []\n",
    "        for pid in possible_pids:\n",
    "            rows = df.loc[df.index==pid]\n",
    "            mean_points = np.average(rows['points'])\n",
    "            vals.append(mean_points)\n",
    "            print(f'\\t{pid} with an average point/year of {mean_points}'.format(\n",
    "                row['PlayerID'], row['CareerValue']))\n",
    "        return possible_pids[np.argmax(vals)]\n",
    "    else:\n",
    "        print(\"No exact name matches... possible names:\")\n",
    "        from fuzzywuzzy import process\n",
    "        matches = process.extract(player_name, np.unique(df['player_name'].values), limit=10)\n",
    "        for poss in matches:\n",
    "            print(\"\\t\",poss[0])\n",
    "        print(\"Returning best match, but maybe incorrect...\")\n",
    "        return find_player_id(matches[0][0], df)\n",
    "    \n",
    "class CyclicList(list):\n",
    "    def __getitem__(self, index):\n",
    "        return super().__getitem__(index%len(self))"
   ]
  },
  {
   "cell_type": "markdown",
   "metadata": {},
   "source": [
    "### functions that implement recommendations on network size:"
   ]
  },
  {
   "cell_type": "code",
   "execution_count": 2,
   "metadata": {
    "code_folding": [
     0,
     16
    ]
   },
   "outputs": [],
   "source": [
    "def recommended_max_hidden_neurons_hobbs(training_sample_size, \n",
    "                                   num_input_neurons, \n",
    "                                   num_output_neurons,\n",
    "                                  alpha=2.5):\n",
    "    \"\"\"\n",
    "    recommend the max number of hidden neurons based on I/O & sample size\n",
    "    \n",
    "    this recommendation is taken from the second answer (from @hobbs) on\n",
    "    stackexchange here:  \n",
    "\n",
    "    https://stats.stackexchange.com/questions/181/how-to-choose-the-number-of-hidden-layers-and-nodes-in-a-feedforward-neural-netw\n",
    "    \"\"\"\n",
    "    \n",
    "    bottom = alpha * (num_input_neurons + num_output_neurons)\n",
    "    return training_sample_size/bottom\n",
    "\n",
    "def recommend_max_hidden_neurons_heaton(num_input_neurons,\n",
    "                                       num_output_neurons):\n",
    "    \"\"\"\n",
    "    following the third answer, from @jj_, who quotes Heaton,\n",
    "    we have three rules of thumb:\n",
    "\n",
    "    * The number of hidden neurons should be between the size \n",
    "      of the input layer and the size of the output layer.\n",
    "    \n",
    "    * The number of hidden neurons should be 2/3 the size of \n",
    "      the input layer, plus the size of the output layer.\n",
    "    \n",
    "    * The number of hidden neurons should be less than twice \n",
    "      the size of the input layer.    \n",
    "    \"\"\"\n",
    "    \n",
    "    ## rule one:\n",
    "    max_size = max([num_input_neurons, num_output_neurons])\n",
    "    min_size = min([num_input_neurons, num_output_neurons])\n",
    "    print(f\"\\tRule one recommends {min_size} - {max_size}\")\n",
    "    \n",
    "    ## rule two:\n",
    "    size = np.rint(2*num_input_neurons/3) + num_output_neurons\n",
    "    print(f\"\\tRule two recommends {size}\", end='')\n",
    "    if min_size < size < max_size:\n",
    "        print(\", which also satisfies rule 1\")\n",
    "    else:\n",
    "        print(\", which is in conflict with rule 1\")\n",
    "    \n",
    "    ## rule three:\n",
    "    max_size_two = 2*num_input_neurons\n",
    "    print(f\"\\tRule three recommends no more than {2*max_size_two}\")"
   ]
  },
  {
   "cell_type": "markdown",
   "metadata": {},
   "source": [
    "### extract test/training/validate and make recommendations:"
   ]
  },
  {
   "cell_type": "code",
   "execution_count": 3,
   "metadata": {
    "code_folding": [
     0
    ]
   },
   "outputs": [],
   "source": [
    "def build_training_dataframe(yearly_df, player_df, \n",
    "                             training_columns, target_columns, \n",
    "                             years_to_train_on=2, \n",
    "                             min_career_length=2, \n",
    "                             frac_train=0.75, \n",
    "                             frac_of_test_as_validate=0.5,\n",
    "                             sort_before_splitting=True,\n",
    "                             split_randomly=True,\n",
    "                             drop_pre_1973=True,\n",
    "                             drop_nans=True):\n",
    "    \n",
    "    assert True not in [tc in training_columns for tc in target_columns]\n",
    "    min_career_length = max(min_career_length, years_to_train_on)\n",
    "    \n",
    "    msk = player_df['career_length'] >= min_career_length\n",
    "    if drop_pre_1973:\n",
    "        msk = msk & player_df['rookie_end_year'] >= 1973\n",
    "        \n",
    "    max_rookie_year = 2019 - years_to_train_on\n",
    "    msk = msk & player_df['rookie_end_year'] < max_rookie_year\n",
    "    player_subset = player_df.loc[msk]\n",
    "    \n",
    "    input_data = []\n",
    "    \n",
    "    ## loop over players that meet my requirements\n",
    "    for pid in player_subset.index:\n",
    "        ## grab the rows correspoding to that player\n",
    "        rows = yearly_df[yearly_df.index==pid]\n",
    "        if len(rows) < min_career_length:\n",
    "            continue\n",
    "        \n",
    "        ## create a dictionary for each player\n",
    "        pdata = dict(player_id=pid)\n",
    "        \n",
    "        ## add the data for the first n years (where n = years_to_train_on) \n",
    "        ## of that players career to their dictionary\n",
    "        for ii in range(years_to_train_on):\n",
    "            for k in training_columns:\n",
    "                pdata[k+f'.y{ii+1}'] = rows[k].iloc[ii]\n",
    "                \n",
    "        input_data.append(pdata)\n",
    "    \n",
    "    ## now turn that dictionary back into a dataframe\n",
    "    input_data = pd.DataFrame(input_data)\n",
    "    input_data.set_index('player_id', inplace=True)\n",
    "\n",
    "    ## and pull the targets out of our original dataset\n",
    "    target_data = player_subset[target_columns].copy()\n",
    "    \n",
    "    ## if we're training for multiple categories, then make sure to label \n",
    "    ## people that aren't in any category as \"other\" if necessary\n",
    "    if len(target_columns) > 1 and not (target_data>0).any(axis=1).all():\n",
    "        target_data['is_other'] = target_data.apply(lambda row:  1.0 if (row==0).all() else 0.0, axis=1)\n",
    "        print(f\"Labeling {np.count_nonzero(target_data['is_other'])} players as 'other'\")\n",
    "        target_columns.append('is_other')\n",
    "\n",
    "    if sort_before_splitting or drop_nans:\n",
    "        for target_column in target_data:\n",
    "            input_data[target_column] = target_data[target_column]\n",
    "        if sort_before_splitting:\n",
    "            input_data.sort_values(target_columns[0], inplace=True)\n",
    "        if drop_nans:\n",
    "            input_data.dropna(axis=0, how='any', inplace=True)\n",
    "        target_data = input_data[target_columns].copy()\n",
    "        input_data.drop(target_columns, axis=1, inplace=True)\n",
    "        \n",
    "    total_sample_size = len(target_data)\n",
    "    all_indices = np.arange(total_sample_size)\n",
    "\n",
    "    if split_randomly:\n",
    "        ntrain = int(np.ceil(frac_train*total_sample_size))\n",
    "        ntest = int(np.ceil((1-frac_train)*total_sample_size*(1-frac_of_test_as_validate)))\n",
    "        nvalidate = int(np.ceil((1-frac_train)*total_sample_size*frac_of_test_as_validate))\n",
    "\n",
    "        while ntest + ntrain + nvalidate > total_sample_size:\n",
    "            ntest -= 1        \n",
    "        \n",
    "        train_indices = np.random.choice(all_indices, size=ntrain, replace=False)\n",
    "        all_indices = np.setdiff1d(all_indices, train_indices)\n",
    "        \n",
    "        test_indices = np.random.choice(all_indices, size=ntest, replace=False)\n",
    "        all_indices = np.setdiff1d(all_indices, test_indices)\n",
    "        \n",
    "        validate_indices = np.array(all_indices, copy=True)\n",
    "    else:\n",
    "        tt_stride = int(2/(1-frac_train))\n",
    "        \n",
    "        test_indices = all_indices[tt_stride//2::tt_stride]\n",
    "        validate_indices = test_indices + 1\n",
    "        train_indices = np.setdiff1d(all_indices, np.concatenate((test_indices, validate_indices)))\n",
    "        \n",
    "        if frac_of_test_as_validate > 0.5:\n",
    "            ## move some of the test to validate:\n",
    "            n_nontrain = test_indices.size + validate_indices.size\n",
    "            target_num_validate = n_nontrain*frac_of_test_as_validate\n",
    "            to_move = target_num_validate - validate_indices.size\n",
    "            \n",
    "            print(f\"Randomly moving {to_move} of {test_indices.size} players from test to validate\")\n",
    "            indices_to_move = np.random.choice(test_indices, size=to_move, replace=False)\n",
    "            \n",
    "            ## remove those indices from test:\n",
    "            test_indices = np.setdiff1d(test_indices, indices_to_move)\n",
    "            \n",
    "            ## and add them to validate:\n",
    "            validate_indices = np.concatenate((validate_indices, indices_to_move))\n",
    "        elif frac_of_test_as_validate < 0.5:\n",
    "            ## move some of the validate to test:\n",
    "            n_nontrain = test_indices.size + validate_indices.size\n",
    "            target_num_test = n_nontrain*(1-frac_of_test_as_validate)\n",
    "            to_move = target_num_test - test_indices.size\n",
    "            \n",
    "            print(f\"Randomly moving {to_move} of {validate_indices.size} players from validate to test\")\n",
    "            indices_to_move = np.random.choice(validate_indices, size=to_move, replace=False)\n",
    "            \n",
    "            ## remove those indices from validate:\n",
    "            validate_indices = np.setdiff1d(validate_indices, indices_to_move)\n",
    "            \n",
    "            ## and add them to test:\n",
    "            test_indices = np.concatenate((test_indices, indices_to_move))\n",
    "            \n",
    "    \n",
    "    \n",
    "    trainX = input_data.iloc[train_indices]\n",
    "    trainY = target_data.iloc[train_indices]\n",
    "    \n",
    "    testX = input_data.iloc[test_indices]\n",
    "    testY = target_data.iloc[test_indices]\n",
    "    \n",
    "    validateX = input_data.iloc[validate_indices]\n",
    "    validateY = target_data.iloc[validate_indices]\n",
    "    \n",
    "    return trainX, trainY, testX, testY, validateX, validateY"
   ]
  },
  {
   "cell_type": "code",
   "execution_count": 4,
   "metadata": {
    "code_folding": [
     0
    ]
   },
   "outputs": [],
   "source": [
    "def extract_and_recommend(yearly_df, player_df, training_columns, target_columns, **kwargs):\n",
    "    trainX, trainY, testX, testY, validateX, validateY = build_training_dataframe(\n",
    "        yearly_df, player_df, training_columns, target_columns, **kwargs)\n",
    "    \n",
    "    print(f\"Training on {trainX.shape[1]} columns, so using that many input neurons\")\n",
    "    print(f\"Predicting {trainY.shape[1]} column(s), so using that many output neurons\")\n",
    "    \n",
    "    input_neurons = trainX.shape[1]\n",
    "    output_neurons = trainY.shape[1]\n",
    "    \n",
    "    print(\"@hobbs recommends {} hidden neurons max\".format(\n",
    "        recommended_max_hidden_neurons_hobbs(len(trainX), input_neurons, output_neurons)))\n",
    "    print(\"Heaton recommends:\")\n",
    "    recommend_max_hidden_neurons_heaton(input_neurons, output_neurons)\n",
    "    \n",
    "    return trainX, trainY, testX, testY, validateX, validateY"
   ]
  },
  {
   "cell_type": "markdown",
   "metadata": {},
   "source": [
    "### Build and train an model, optionally with hidden layers"
   ]
  },
  {
   "cell_type": "code",
   "execution_count": 5,
   "metadata": {
    "code_folding": [
     0
    ]
   },
   "outputs": [],
   "source": [
    "def build_and_train_classifier( trainX, trainY, \n",
    "                                testX, testY,\n",
    "                                scale_inputs=True,\n",
    "                                hidden_layers=None,\n",
    "                                hidden_layer_neurons=None, hidden_layer_kwargs=dict(kernel_initializer='random_normal'),\n",
    "                                dropout_every=None, dropout_rate=0.5,\n",
    "                                clear=True, optimizer='adam', loss='categorical_crossentropy',\n",
    "                                epochs=250, metrics=['accuracy'], shuffle=True, batch_size=None,\n",
    "                                input_layer=None, input_layer_neurons=None, input_layer_kwargs=dict(),\n",
    "                                output_layer=None, output_layer_neurons=None, output_layer_kwargs=dict(activation='softmax', kernel_initializer='random_normal')):\n",
    "\n",
    "    if clear:\n",
    "        print(\"Clearing TensorFlow graph\")\n",
    "        keras.backend.clear_session()\n",
    "        \n",
    "    if len(trainY.shape) > 1 and trainY.shape[1] == 1 and loss == 'categorical_crossentropy':\n",
    "        print(\"Switching to binary_crossentropy because only one category\")\n",
    "        loss = 'binary_crossentropy'\n",
    "        \n",
    "    if scale_inputs:\n",
    "        trainX = scaler.fit_transform(trainX)\n",
    "        testX = scaler.fit_transform(testX)\n",
    "    \n",
    "    model = keras.Sequential()\n",
    "    \n",
    "    ## add our input layer:\n",
    "    if input_layer is not None:\n",
    "        model.add(input_layer)\n",
    "    else:\n",
    "        if input_layer_neurons is None:  input_layer_neurons = 2 * trainX.shape[1]\n",
    "        model.add(keras.layers.Dense(input_layer_neurons, input_shape=(trainX.shape[1],), **input_layer_kwargs))\n",
    "\n",
    "    ## add any hidden layers\n",
    "    if hidden_layers is not None:\n",
    "        ## did we pass in pre-built layers?\n",
    "        for layer in hidden_layers:\n",
    "            model.add(layer)\n",
    "    else:\n",
    "        for ii, (neurons, kwargs) in enumerate(zip(hidden_layer_neurons, hidden_layer_kwargs)):\n",
    "            ## otherwise, assume all are dense\n",
    "            ## but add a dropout layer in between some fraction of the layers\n",
    "            if dropout_every is not None and ii > 0 and ii % dropout_every == 0:\n",
    "                model.add(keras.layers.Dropout(dropout_rate))\n",
    "            model.add(keras.layers.Dense(neurons, **kwargs))\n",
    "        \n",
    "    ## add our output layer\n",
    "    if output_layer is not None:\n",
    "        model.add(output_layer)\n",
    "    else:\n",
    "        if output_layer_neurons is None:  output_layer_neurons = trainY.shape[1]\n",
    "        model.add(keras.layers.Dense(output_layer_neurons, **output_layer_kwargs))\n",
    "\n",
    "    ## compile our model with our callbacks:\n",
    "    cblist = [early_stopper, nan_stopper, PrintCallback()]    \n",
    "    model.compile(loss=loss, optimizer=optimizer, metrics=metrics)\n",
    "    \n",
    "    ## and fit it!\n",
    "    history = model.fit(trainX, trainY, validation_data=(testX, testY),\n",
    "                        epochs=epochs, verbose=0, callbacks=cblist,\n",
    "                        shuffle=shuffle, batch_size=batch_size)\n",
    "    \n",
    "    return model, history"
   ]
  },
  {
   "cell_type": "markdown",
   "metadata": {},
   "source": [
    "### Functions to check model performance:"
   ]
  },
  {
   "cell_type": "code",
   "execution_count": 13,
   "metadata": {
    "code_folding": [
     0,
     22,
     27,
     45,
     51
    ]
   },
   "outputs": [],
   "source": [
    "def plot_history(history, skip=10, logy=False):\n",
    "    label_dict = dict(loss='Loss', acc='Accuracy')    \n",
    "    color_dict = dict(loss='orange', acc='blue')        \n",
    "        \n",
    "    epoch = history.epoch[skip:]\n",
    "    lines = []\n",
    "    for key in history.history.keys():\n",
    "        if 'val_' in key:\n",
    "            continue\n",
    "            \n",
    "        fig = plt.figure()\n",
    "        ax = plt.gca()\n",
    "        ax.set_xlabel('Training epoch')  \n",
    "        ax.set_ylabel(label_dict[key])\n",
    "        if logy:    ax.set_yscale('log')\n",
    "                    \n",
    "        ax.plot(epoch, history.history[key][skip:], label='Train', lw=2.5)\n",
    "        ax.plot(epoch, history.history['val_'+key][skip:], label='Test', lw=2.5)\n",
    "        \n",
    "        ax.legend()\n",
    "        ax.set_xlim(skip, epoch[-1])\n",
    "        \n",
    "def calculate_mse(model, validateX, validateY):\n",
    "    prediction = model.predict(validateX).flatten()\n",
    "    mse = np.mean(np.square(validateY.values - prediction))\n",
    "    return mse\n",
    "\n",
    "def plot_pred_vs_actual(model, Xlist, Ylist, labels=None, logaxes=''):\n",
    "    fig = plt.figure()\n",
    "    ax = plt.gca()\n",
    "    ax.set_xlabel('actual')\n",
    "    ax.set_ylabel('prediction')\n",
    "    if 'x' in logaxes:  ax.set_xscale('log')\n",
    "    if 'y' in logaxes:  ax.set_yscale('log')\n",
    "    \n",
    "    if labels is None:\n",
    "        labels = ['_nolegend_']*len(Xlist)\n",
    "    for (x, y, l) in zip(Xlist, Ylist, labels):\n",
    "        pred = model.predict(x)\n",
    "        actual = y.values\n",
    "        \n",
    "        ax.scatter(actual, pred, label=l, s=25, edgecolor=None)\n",
    "    ax.legend()    \n",
    "    return fig, ax\n",
    "\n",
    "def calculate_validation_accuracy(model, validateX, validateY):\n",
    "    predicted_values = model.predict(validateX)\n",
    "    correct = np.count_nonzero(np.count_nonzero(predicted_values == validateY, axis=1))\n",
    "    return correct/len(validateX)\n",
    "    \n",
    "    \n",
    "def plot_roc_and_auc_multiclass(model, Xtest, Ytest):\n",
    "    false_positive_rate = dict()\n",
    "    true_positive_rate = dict()\n",
    "    roc_auc = dict()\n",
    "    \n",
    "    nclasses = Ytest.shape[0]\n",
    "    for ii in range(n_classes):\n",
    "        false_positive_rate[ii], true_positive_rate[ii], _ = roc_curve(y_test[:, i], y_score[:, i])\n",
    "        roc_auc[i] = auc(fpr[i], tpr[i])\n",
    "\n",
    "    # Compute micro-average ROC curve and ROC area\n",
    "    fpr[\"micro\"], tpr[\"micro\"], _ = roc_curve(y_test.ravel(), y_score.ravel())\n",
    "    roc_auc[\"micro\"] = auc(fpr[\"micro\"], tpr[\"micro\"])\n",
    "\n",
    "    # Compute macro-average ROC curve and ROC area\n",
    "\n",
    "    # First aggregate all false positive rates\n",
    "    all_fpr = np.unique(np.concatenate([fpr[i] for i in range(n_classes)]))\n",
    "\n",
    "    # Then interpolate all ROC curves at this points\n",
    "    mean_tpr = np.zeros_like(all_fpr)\n",
    "    for i in range(n_classes):\n",
    "        mean_tpr += interp(all_fpr, fpr[i], tpr[i])\n",
    "\n",
    "    # Finally average it and compute AUC\n",
    "    mean_tpr /= n_classes\n",
    "\n",
    "    fpr[\"macro\"] = all_fpr\n",
    "    tpr[\"macro\"] = mean_tpr\n",
    "    roc_auc[\"macro\"] = auc(fpr[\"macro\"], tpr[\"macro\"])\n",
    "\n",
    "    # Plot all ROC curves\n",
    "    plt.figure(1)\n",
    "    plt.plot(fpr[\"micro\"], tpr[\"micro\"],\n",
    "             label='micro-average ROC curve (area = {0:0.2f})'\n",
    "                   ''.format(roc_auc[\"micro\"]),\n",
    "             color='deeppink', linestyle=':', linewidth=4)\n",
    "\n",
    "    plt.plot(fpr[\"macro\"], tpr[\"macro\"],\n",
    "             label='macro-average ROC curve (area = {0:0.2f})'\n",
    "                   ''.format(roc_auc[\"macro\"]),\n",
    "             color='navy', linestyle=':', linewidth=4)\n",
    "\n",
    "    colors = cycle(['aqua', 'darkorange', 'cornflowerblue'])\n",
    "    for i, color in zip(range(n_classes), colors):\n",
    "        plt.plot(fpr[i], tpr[i], color=color, lw=lw,\n",
    "                 label='ROC curve of class {0} (area = {1:0.2f})'\n",
    "                 ''.format(i, roc_auc[i]))\n",
    "\n",
    "    plt.plot([0, 1], [0, 1], 'k--', lw=lw)\n",
    "    plt.xlim([0.0, 1.0])\n",
    "    plt.ylim([0.0, 1.05])\n",
    "    plt.xlabel('False Positive Rate')\n",
    "    plt.ylabel('True Positive Rate')\n",
    "    plt.title('Some extension of Receiver operating characteristic to multi-class')\n",
    "    plt.legend(loc=\"lower right\")\n",
    "    plt.show()\n",
    "\n",
    "\n",
    "    # Zoom in view of the upper left corner.\n",
    "    plt.figure(2)\n",
    "    plt.xlim(0, 0.2)\n",
    "    plt.ylim(0.8, 1)\n",
    "    plt.plot(fpr[\"micro\"], tpr[\"micro\"],\n",
    "             label='micro-average ROC curve (area = {0:0.2f})'\n",
    "                   ''.format(roc_auc[\"micro\"]),\n",
    "             color='deeppink', linestyle=':', linewidth=4)\n",
    "\n",
    "    plt.plot(fpr[\"macro\"], tpr[\"macro\"],\n",
    "             label='macro-average ROC curve (area = {0:0.2f})'\n",
    "                   ''.format(roc_auc[\"macro\"]),\n",
    "             color='navy', linestyle=':', linewidth=4)\n",
    "\n",
    "    colors = cycle(['aqua', 'darkorange', 'cornflowerblue'])\n",
    "    for i, color in zip(range(n_classes), colors):\n",
    "        plt.plot(fpr[i], tpr[i], color=color, lw=lw,\n",
    "                 label='ROC curve of class {0} (area = {1:0.2f})'\n",
    "                 ''.format(i, roc_auc[i]))\n",
    "\n",
    "    plt.plot([0, 1], [0, 1], 'k--', lw=lw)\n",
    "    plt.xlabel('False Positive Rate')\n",
    "    plt.ylabel('True Positive Rate')\n",
    "    plt.title('Some extension of Receiver operating characteristic to multi-class')\n",
    "    plt.legend(loc=\"lower right\")\n",
    "    plt.show()        \n",
    "    \n",
    "def plot_roc_and_auc_oneclass(models, Xtest, Ytest, labels=None):\n",
    "    # Compute ROC curve and ROC area for each class\n",
    "    from sklearn.metrics import roc_curve, auc\n",
    "    \n",
    "    if not isinstance(models, list):\n",
    "        models = [models]\n",
    "\n",
    "    fig = plt.figure()\n",
    "    ax = plt.gca()\n",
    "    ax.set_xlabel('False positive rate')\n",
    "    ax.set_ylabel('True positive rate')\n",
    "        \n",
    "    for ii, model in enumerate(models):    \n",
    "        y_pred = model.predict(Xtest).ravel()\n",
    "        fpr, tpr, thresholds = roc_curve(Ytest, y_pred)\n",
    "        auc_val = auc(fpr, tpr)\n",
    "\n",
    "        \n",
    "        if labels is not None:\n",
    "            label = labels[ii]\n",
    "        else:\n",
    "            label = f'Model {ii}'\n",
    "        label += f' (AUC = {auc_val:.3f})'\n",
    "        ax.plot(fpr, tpr, label=label)\n",
    "    ax.legend(loc=4)"
   ]
  },
  {
   "cell_type": "markdown",
   "metadata": {},
   "source": [
    "### read in the data:"
   ]
  },
  {
   "cell_type": "code",
   "execution_count": 7,
   "metadata": {},
   "outputs": [],
   "source": [
    "yearly_df = pd.read_hdf('scraped/all_years_combined.hdf5', 'nba_stats')\n",
    "player_df = pd.read_hdf('scraped/all_years_combined.hdf5', 'player_list')\n",
    "\n",
    "cols = player_df.columns.tolist()\n",
    "cols.remove('player_name')\n",
    "cols = ['player_name'] + cols\n",
    "player_df = player_df[cols]\n",
    "\n",
    "cols = yearly_df.columns.tolist()\n",
    "cols.remove('player_name')\n",
    "cols = ['player_name'] + cols\n",
    "yearly_df = yearly_df[cols]"
   ]
  },
  {
   "cell_type": "markdown",
   "metadata": {},
   "source": [
    "### classifying as failed career, career bench warmer, quality role player, star, and superstar:"
   ]
  },
  {
   "cell_type": "code",
   "execution_count": 8,
   "metadata": {},
   "outputs": [],
   "source": [
    "player_df['vorp-total'] = player_df['vorp-mean']*player_df['career_length']\n",
    "player_df['vorp.combined-total'] = player_df['vorp.combined-mean']*player_df['career_length']\n",
    "\n",
    "def calc_average_of_key(row, yearly, key):\n",
    "    rows = yearly.iloc[yearly.index == row.name]\n",
    "    vals = rows[key]\n",
    "    return vals.mean()\n",
    "\n",
    "def calc_total_of_key(row, yearly, key):\n",
    "    rows = yearly.iloc[yearly.index == row.name]\n",
    "    vals = rows[key]\n",
    "    return vals.sum()    \n",
    "    \n",
    "player_df['three_point_percent-mean'] = player_df.apply(calc_average_of_key, axis=1, \n",
    "                                                        args=[yearly_df, 'three_point_percent'])\n",
    "player_df['three_point_attempts-total'] = player_df.apply(calc_total_of_key, axis=1, \n",
    "                                                        args=[yearly_df, 'attempted_three_point_field_goals'])"
   ]
  },
  {
   "cell_type": "code",
   "execution_count": 9,
   "metadata": {},
   "outputs": [],
   "source": [
    "superstar_cut = np.percentile(player_df['vorp.combined-mean'], 99)\n",
    "star_cut = np.percentile(player_df['vorp.combined-mean'], 95)\n",
    "\n",
    "superstars = (player_df['vorp.combined-mean'] >= superstar_cut) & (player_df['career_length'] >= 5)\n",
    "stars = (player_df['vorp.combined-mean'] >= star_cut) & np.logical_not(superstars) & (player_df['career_length'] >= 5)\n",
    "busts = player_df['vorp.combined-mean'] <= 0\n",
    "\n",
    "shooter_cut = np.percentile(player_df['true_shooting_percent-mean'], 90)\n",
    "shooters = (player_df['true_shooting_percent-mean'] >= shooter_cut) & np.logical_not(superstars) & np.logical_not(stars) & (player_df['career_length'] >= 5)\n",
    "\n",
    "enough_shots = player_df['three_point_attempts-total'] >= 50\n",
    "three_point_percent_cut = np.percentile(player_df['three_point_percent-mean'][enough_shots], 90) \n",
    "three_point_shooters = (player_df['three_point_percent-mean'] >= three_point_percent_cut) & enough_shots & np.logical_not(superstars) & np.logical_not(stars) & (player_df['career_length'] >= 5)\n",
    "\n",
    "# defender_cut = np.percentile(player_df['defensive_rating-mean'], 90)\n",
    "# defenders = (player_df['defensive_rating-mean'] >= defender_cut) & np.logical_not(superstars) & np.logical_not(stars)"
   ]
  },
  {
   "cell_type": "code",
   "execution_count": 10,
   "metadata": {},
   "outputs": [],
   "source": [
    "v = np.zeros(len(player_df))\n",
    "v[superstars] = 1\n",
    "player_df['is_superstar'] = v\n",
    "\n",
    "v = np.zeros(len(player_df))\n",
    "v[stars] = 1\n",
    "player_df['is_star'] = v\n",
    "\n",
    "v = np.zeros(len(player_df))\n",
    "v[stars | superstars] = 1\n",
    "player_df['is_superstar_or_star'] = v\n",
    "\n",
    "v = np.zeros(len(player_df))\n",
    "v[three_point_shooters] = 1\n",
    "player_df['is_shooter'] = v\n",
    "\n",
    "v = np.zeros(len(player_df))\n",
    "v[busts] = 1\n",
    "player_df['is_bust'] = v\n",
    "\n",
    "# v = np.zeros(len(player_df))\n",
    "# v[defenders] = 1\n",
    "# player_df['is_defender'] = v"
   ]
  },
  {
   "cell_type": "markdown",
   "metadata": {
    "heading_collapsed": true
   },
   "source": [
    "### Who falls into which categories?"
   ]
  },
  {
   "cell_type": "code",
   "execution_count": null,
   "metadata": {
    "hidden": true,
    "scrolled": true
   },
   "outputs": [],
   "source": [
    "print(\"Superstars:\")\n",
    "player_df.loc[player_df['is_superstar']==1].sort_values('vorp-mean', ascending=False)"
   ]
  },
  {
   "cell_type": "code",
   "execution_count": null,
   "metadata": {
    "hidden": true,
    "scrolled": true
   },
   "outputs": [],
   "source": [
    "print(\"Stars:\")\n",
    "player_df.loc[player_df['is_star']==1].sort_values('vorp-mean', ascending=False)"
   ]
  },
  {
   "cell_type": "code",
   "execution_count": null,
   "metadata": {
    "hidden": true,
    "scrolled": true
   },
   "outputs": [],
   "source": [
    "print(\"3P Shooters:\")\n",
    "player_df.loc[player_df['is_shooter']==1].sort_values('three_point_percent-mean', ascending=False)"
   ]
  },
  {
   "cell_type": "markdown",
   "metadata": {},
   "source": [
    "## OK, moment of truth here -- all the machinery looks set up, so let's do some model building:"
   ]
  },
  {
   "cell_type": "markdown",
   "metadata": {
    "heading_collapsed": true
   },
   "source": [
    "#### Values I'm set up to train for (career-averaged/medianed/maxed/etc values)"
   ]
  },
  {
   "cell_type": "code",
   "execution_count": null,
   "metadata": {
    "hidden": true,
    "scrolled": false
   },
   "outputs": [],
   "source": [
    "player_df.keys()"
   ]
  },
  {
   "cell_type": "markdown",
   "metadata": {
    "heading_collapsed": true
   },
   "source": [
    "#### Values I'm set up to train on (trains on the first N years worth of data for these columns):"
   ]
  },
  {
   "cell_type": "code",
   "execution_count": null,
   "metadata": {
    "hidden": true,
    "scrolled": true
   },
   "outputs": [],
   "source": [
    "count = 0\n",
    "for k in yearly_df.keys():\n",
    "    if '.playoffs' in k:\n",
    "        continue\n",
    "    print(k.ljust(50), end='')\n",
    "    if count % 2 == 0:\n",
    "        print()\n",
    "    else:\n",
    "        print(' | ', end='')\n",
    "    count += 1"
   ]
  },
  {
   "cell_type": "markdown",
   "metadata": {},
   "source": [
    "#### First, a model based on most of the basic stats from the first two years"
   ]
  },
  {
   "cell_type": "code",
   "execution_count": 15,
   "metadata": {
    "scrolled": false
   },
   "outputs": [
    {
     "name": "stdout",
     "output_type": "stream",
     "text": [
      "Labeling 1153 players as 'other'\n",
      "Training on 26 columns, so using that many input neurons\n",
      "Predicting 4 column(s), so using that many output neurons\n",
      "@hobbs recommends 34.906666666666666 hidden neurons max\n",
      "Heaton recommends:\n",
      "\tRule one recommends 4 - 26\n",
      "\tRule two recommends 21.0, which also satisfies rule 1\n",
      "\tRule three recommends no more than 104\n"
     ]
    }
   ],
   "source": [
    "trainX, trainY, testX, testY, validateX, validateY = extract_and_recommend(\n",
    "    yearly_df=yearly_df, player_df=player_df,\n",
    "    training_columns=['field_goal_percent', 'three_point_percent', 'free_throw_attempt_rate', \n",
    "     'total_rebounds', 'assists', 'steals', 'blocks', 'turnovers', 'free_throw_percent',\n",
    "      'vorp', 'true_shooting_percent', 'total_box_plus_minus', 'total_win_shares'], \n",
    "    target_columns=['is_superstar', 'is_star', 'is_bust'],\n",
    "#     target_columns=['is_superstar_or_star'],\n",
    "    years_to_train_on=2, \n",
    "    frac_train=0.85, frac_of_test_as_validate=0.5, sort_before_splitting=True)"
   ]
  },
  {
   "cell_type": "code",
   "execution_count": 17,
   "metadata": {
    "scrolled": false
   },
   "outputs": [
    {
     "name": "stdout",
     "output_type": "stream",
     "text": [
      "Clearing TensorFlow graph\n",
      "Beginning training...\n",
      "epoch 0:  loss = 1.33, accuracy = 0.58\n",
      "epoch 25:  loss = 0.88, accuracy = 0.59\n",
      "epoch 50:  loss = 0.88, accuracy = 0.59\n",
      "Epoch 00075: early stopping\n",
      "Training completed\n"
     ]
    },
    {
     "ename": "ValueError",
     "evalue": "multilabel-indicator format is not supported",
     "output_type": "error",
     "traceback": [
      "\u001b[0;31m---------------------------------------------------------------------------\u001b[0m",
      "\u001b[0;31mValueError\u001b[0m                                Traceback (most recent call last)",
      "\u001b[0;32m<ipython-input-17-ad5bcfb207cf>\u001b[0m in \u001b[0;36m<module>\u001b[0;34m\u001b[0m\n\u001b[1;32m      7\u001b[0m \u001b[0;34m\u001b[0m\u001b[0m\n\u001b[1;32m      8\u001b[0m \u001b[0mplot_history\u001b[0m\u001b[0;34m(\u001b[0m\u001b[0mhistory\u001b[0m\u001b[0;34m,\u001b[0m \u001b[0mskip\u001b[0m\u001b[0;34m=\u001b[0m\u001b[0;36m3\u001b[0m\u001b[0;34m)\u001b[0m\u001b[0;34m\u001b[0m\u001b[0;34m\u001b[0m\u001b[0m\n\u001b[0;32m----> 9\u001b[0;31m \u001b[0mplot_roc_and_auc_oneclass\u001b[0m\u001b[0;34m(\u001b[0m\u001b[0;34m[\u001b[0m\u001b[0mmodel\u001b[0m\u001b[0;34m]\u001b[0m\u001b[0;34m,\u001b[0m \u001b[0mvalidateX\u001b[0m\u001b[0;34m,\u001b[0m \u001b[0mvalidateY\u001b[0m\u001b[0;34m)\u001b[0m\u001b[0;34m\u001b[0m\u001b[0;34m\u001b[0m\u001b[0m\n\u001b[0m",
      "\u001b[0;32m<ipython-input-13-48eb9c8605b5>\u001b[0m in \u001b[0;36mplot_roc_and_auc_oneclass\u001b[0;34m(models, Xtest, Ytest, labels)\u001b[0m\n\u001b[1;32m    150\u001b[0m     \u001b[0;32mfor\u001b[0m \u001b[0mii\u001b[0m\u001b[0;34m,\u001b[0m \u001b[0mmodel\u001b[0m \u001b[0;32min\u001b[0m \u001b[0menumerate\u001b[0m\u001b[0;34m(\u001b[0m\u001b[0mmodels\u001b[0m\u001b[0;34m)\u001b[0m\u001b[0;34m:\u001b[0m\u001b[0;34m\u001b[0m\u001b[0;34m\u001b[0m\u001b[0m\n\u001b[1;32m    151\u001b[0m         \u001b[0my_pred\u001b[0m \u001b[0;34m=\u001b[0m \u001b[0mmodel\u001b[0m\u001b[0;34m.\u001b[0m\u001b[0mpredict\u001b[0m\u001b[0;34m(\u001b[0m\u001b[0mXtest\u001b[0m\u001b[0;34m)\u001b[0m\u001b[0;34m.\u001b[0m\u001b[0mravel\u001b[0m\u001b[0;34m(\u001b[0m\u001b[0;34m)\u001b[0m\u001b[0;34m\u001b[0m\u001b[0;34m\u001b[0m\u001b[0m\n\u001b[0;32m--> 152\u001b[0;31m         \u001b[0mfpr\u001b[0m\u001b[0;34m,\u001b[0m \u001b[0mtpr\u001b[0m\u001b[0;34m,\u001b[0m \u001b[0mthresholds\u001b[0m \u001b[0;34m=\u001b[0m \u001b[0mroc_curve\u001b[0m\u001b[0;34m(\u001b[0m\u001b[0mYtest\u001b[0m\u001b[0;34m,\u001b[0m \u001b[0my_pred\u001b[0m\u001b[0;34m)\u001b[0m\u001b[0;34m\u001b[0m\u001b[0;34m\u001b[0m\u001b[0m\n\u001b[0m\u001b[1;32m    153\u001b[0m         \u001b[0mauc_val\u001b[0m \u001b[0;34m=\u001b[0m \u001b[0mauc\u001b[0m\u001b[0;34m(\u001b[0m\u001b[0mfpr\u001b[0m\u001b[0;34m,\u001b[0m \u001b[0mtpr\u001b[0m\u001b[0;34m)\u001b[0m\u001b[0;34m\u001b[0m\u001b[0;34m\u001b[0m\u001b[0m\n\u001b[1;32m    154\u001b[0m \u001b[0;34m\u001b[0m\u001b[0m\n",
      "\u001b[0;32m/usr/local/lib/python3.7/site-packages/sklearn/metrics/ranking.py\u001b[0m in \u001b[0;36mroc_curve\u001b[0;34m(y_true, y_score, pos_label, sample_weight, drop_intermediate)\u001b[0m\n\u001b[1;32m    616\u001b[0m     \"\"\"\n\u001b[1;32m    617\u001b[0m     fps, tps, thresholds = _binary_clf_curve(\n\u001b[0;32m--> 618\u001b[0;31m         y_true, y_score, pos_label=pos_label, sample_weight=sample_weight)\n\u001b[0m\u001b[1;32m    619\u001b[0m \u001b[0;34m\u001b[0m\u001b[0m\n\u001b[1;32m    620\u001b[0m     \u001b[0;31m# Attempt to drop thresholds corresponding to points in between and\u001b[0m\u001b[0;34m\u001b[0m\u001b[0;34m\u001b[0m\u001b[0;34m\u001b[0m\u001b[0m\n",
      "\u001b[0;32m/usr/local/lib/python3.7/site-packages/sklearn/metrics/ranking.py\u001b[0m in \u001b[0;36m_binary_clf_curve\u001b[0;34m(y_true, y_score, pos_label, sample_weight)\u001b[0m\n\u001b[1;32m    395\u001b[0m     if not (y_type == \"binary\" or\n\u001b[1;32m    396\u001b[0m             (y_type == \"multiclass\" and pos_label is not None)):\n\u001b[0;32m--> 397\u001b[0;31m         \u001b[0;32mraise\u001b[0m \u001b[0mValueError\u001b[0m\u001b[0;34m(\u001b[0m\u001b[0;34m\"{0} format is not supported\"\u001b[0m\u001b[0;34m.\u001b[0m\u001b[0mformat\u001b[0m\u001b[0;34m(\u001b[0m\u001b[0my_type\u001b[0m\u001b[0;34m)\u001b[0m\u001b[0;34m)\u001b[0m\u001b[0;34m\u001b[0m\u001b[0;34m\u001b[0m\u001b[0m\n\u001b[0m\u001b[1;32m    398\u001b[0m \u001b[0;34m\u001b[0m\u001b[0m\n\u001b[1;32m    399\u001b[0m     \u001b[0mcheck_consistent_length\u001b[0m\u001b[0;34m(\u001b[0m\u001b[0my_true\u001b[0m\u001b[0;34m,\u001b[0m \u001b[0my_score\u001b[0m\u001b[0;34m,\u001b[0m \u001b[0msample_weight\u001b[0m\u001b[0;34m)\u001b[0m\u001b[0;34m\u001b[0m\u001b[0;34m\u001b[0m\u001b[0m\n",
      "\u001b[0;31mValueError\u001b[0m: multilabel-indicator format is not supported"
     ]
    },
    {
     "data": {
      "image/png": "[encoded data removed]",
      "text/plain": [
       "<Figure size 432x288 with 1 Axes>"
      ]
     },
     "metadata": {},
     "output_type": "display_data"
    },
    {
     "data": {
      "image/png": "[encoded data removed]",
      "text/plain": [
       "<Figure size 432x288 with 1 Axes>"
      ]
     },
     "metadata": {},
     "output_type": "display_data"
    },
    {
     "data": {
      "image/png": "[encoded data removed]",
      "text/plain": [
       "<Figure size 432x288 with 1 Axes>"
      ]
     },
     "metadata": {},
     "output_type": "display_data"
    }
   ],
   "source": [
    "model, history = build_and_train_classifier(trainX, trainY, testX, testY, \n",
    "        hidden_layer_neurons=[4]*12, \n",
    "        hidden_layer_kwargs=[dict(activation='tanh', kernel_initializer='random_normal')]*12,\n",
    "#         hidden_layers=[keras.layers.Dense(8, activation='tanh'), keras.layers.Dense(8, activation='relu')],\n",
    "        clear=True, epochs=250, scale_inputs=False,\n",
    "        loss='categorical_crossentropy', optimizer='adam')\n",
    "\n",
    "plot_history(history, skip=3)\n",
    "plot_roc_and_auc_oneclass([model], validateX, validateY)"
   ]
  },
  {
   "cell_type": "code",
   "execution_count": null,
   "metadata": {},
   "outputs": [],
   "source": []
  },
  {
   "cell_type": "markdown",
   "metadata": {},
   "source": [
    "## What if I add more layers, change up the activations, or don't scale the inputs?"
   ]
  },
  {
   "cell_type": "markdown",
   "metadata": {},
   "source": [
    "#### Not scaling the input:"
   ]
  },
  {
   "cell_type": "code",
   "execution_count": null,
   "metadata": {},
   "outputs": [],
   "source": [
    "model, history = build_and_train_classifier(trainX, trainY, testX, testY, \n",
    "        hidden_layer_neurons=[8]*4, \n",
    "        hidden_layer_kwargs=[dict(activation='relu', kernel_initializer='random_normal')]*4,\n",
    "        clear=True, epochs=250, scale_inputs=False)\n",
    "\n",
    "plot_history(history, skip=3)"
   ]
  },
  {
   "cell_type": "markdown",
   "metadata": {},
   "source": [
    "So this does slightly better actually!"
   ]
  },
  {
   "cell_type": "markdown",
   "metadata": {},
   "source": [
    "#### "
   ]
  },
  {
   "cell_type": "code",
   "execution_count": null,
   "metadata": {},
   "outputs": [],
   "source": [
    "nhidden = 8\n",
    "model2, history2 = build_and_train_classifier(\n",
    "    trainX, trainY, testX, testY, \n",
    "    hidden_layer_neurons=[24]*nhidden,\n",
    "    hidden_layer_kwargs=[dict(activation='relu', kernel_initializer='random_normal')]*nhidden,\n",
    "    dropout_every=2, clear=True)\n"
   ]
  },
  {
   "cell_type": "code",
   "execution_count": null,
   "metadata": {},
   "outputs": [],
   "source": [
    "nhidden = 16\n",
    "model2, history2 = build_and_train_classifier(\n",
    "    trainX, trainY, testX, testY, \n",
    "    hidden_layer_neurons=[64]*nhidden,\n",
    "    hidden_layer_kwargs=[dict(activation='relu', kernel_initializer='random_normal')]*nhidden,\n",
    "    dropout_every=2, dropout_rate=0.25, clear=True)\n"
   ]
  },
  {
   "cell_type": "markdown",
   "metadata": {},
   "source": [
    "#### Let's try training on advanced stats from the first couple years:"
   ]
  },
  {
   "cell_type": "code",
   "execution_count": null,
   "metadata": {},
   "outputs": [],
   "source": [
    "trainX, trainY, testX, testY, validateX, validateY = extract_and_recommend(\n",
    "    yearly_df=yearly_df, player_df=player_df,\n",
    "    training_columns=['true_shooting_percent', 'vorp', 'total_box_plus_minus', 'player_efficiency_rating'], \n",
    "    target_columns=['is_superstar', 'is_star', 'is_bust'],\n",
    "    years_to_train_on=1, frac_train=0.9)"
   ]
  },
  {
   "cell_type": "code",
   "execution_count": null,
   "metadata": {},
   "outputs": [],
   "source": [
    "model3, history3 = build_and_train_classifier(trainX, trainY, testX, testY, \n",
    "        hidden_layer_neurons=[12, 12, 12],\n",
    "        hidden_layer_kwargs=[dict(activation='relu', kernel_initializer='random_normal')]*3,\n",
    "        clear=True, batch_size=32)"
   ]
  },
  {
   "cell_type": "code",
   "execution_count": null,
   "metadata": {},
   "outputs": [],
   "source": []
  }
 ],
 "metadata": {
  "jupytext": {
   "formats": "ipynb,py:light"
  },
  "kernelspec": {
   "display_name": "Python 3",
   "language": "python",
   "name": "python3"
  },
  "language_info": {
   "codemirror_mode": {
    "name": "ipython",
    "version": 3
   },
   "file_extension": ".py",
   "mimetype": "text/x-python",
   "name": "python",
   "nbconvert_exporter": "python",
   "pygments_lexer": "ipython3",
   "version": "3.7.3"
  }
 },
 "nbformat": 4,
 "nbformat_minor": 2
}
